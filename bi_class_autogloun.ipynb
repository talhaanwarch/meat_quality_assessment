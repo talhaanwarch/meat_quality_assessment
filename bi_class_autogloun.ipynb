{
  "nbformat": 4,
  "nbformat_minor": 0,
  "metadata": {
    "colab": {
      "name": "bi_class_autogloun.ipynb",
      "provenance": [],
      "collapsed_sections": [],
      "authorship_tag": "ABX9TyP/Rmbvn4kvJ25mhajMuEwf",
      "include_colab_link": true
    },
    "kernelspec": {
      "name": "python3",
      "display_name": "Python 3"
    },
    "language_info": {
      "name": "python"
    }
  },
  "cells": [
    {
      "cell_type": "markdown",
      "metadata": {
        "id": "view-in-github",
        "colab_type": "text"
      },
      "source": [
        "<a href=\"https://colab.research.google.com/github/talhaanwarch/meat_quality_assessment/blob/main/bi_class_autogloun.ipynb\" target=\"_parent\"><img src=\"https://colab.research.google.com/assets/colab-badge.svg\" alt=\"Open In Colab\"/></a>"
      ]
    },
    {
      "cell_type": "code",
      "metadata": {
        "colab": {
          "base_uri": "https://localhost:8080/"
        },
        "id": "KDpqCHUMX-32",
        "outputId": "30a29d2f-2813-4590-8aeb-cfe9d617207c"
      },
      "source": [
        "# Uninstall mkl for faster neural-network training time\n",
        "!pip uninstall -y mkl\n",
        "# Upgrade pip to ensure the latest package versions are available\n",
        "!pip install -U pip\n",
        "# Upgrade setuptools to be compatible with namespace packages\n",
        "!pip install -U setuptools\n",
        "!pip install -U \"mxnet<2.0.0\"\n",
        "# Install pre-release, frozen to a particual pre-release for stability\n",
        "!pip install --pre \"autogluon==0.0.16b20201214\"\n",
        "!pip install -U ipykernel"
      ],
      "execution_count": null,
      "outputs": [
        {
          "output_type": "stream",
          "text": [
            "\u001b[33mWARNING: Skipping mkl as it is not installed.\u001b[0m\n",
            "Requirement already satisfied: pip in /usr/local/lib/python3.7/dist-packages (21.0.1)\n",
            "Requirement already satisfied: setuptools in /usr/local/lib/python3.7/dist-packages (56.0.0)\n",
            "Requirement already satisfied: mxnet<2.0.0 in /usr/local/lib/python3.7/dist-packages (1.8.0.post0)\n",
            "Requirement already satisfied: requests<3,>=2.20.0 in /usr/local/lib/python3.7/dist-packages (from mxnet<2.0.0) (2.23.0)\n",
            "Requirement already satisfied: graphviz<0.9.0,>=0.8.1 in /usr/local/lib/python3.7/dist-packages (from mxnet<2.0.0) (0.8.4)\n",
            "Requirement already satisfied: numpy<2.0.0,>1.16.0 in /usr/local/lib/python3.7/dist-packages (from mxnet<2.0.0) (1.19.5)\n",
            "Requirement already satisfied: chardet<4,>=3.0.2 in /usr/local/lib/python3.7/dist-packages (from requests<3,>=2.20.0->mxnet<2.0.0) (3.0.4)\n",
            "Requirement already satisfied: idna<3,>=2.5 in /usr/local/lib/python3.7/dist-packages (from requests<3,>=2.20.0->mxnet<2.0.0) (2.10)\n",
            "Requirement already satisfied: urllib3!=1.25.0,!=1.25.1,<1.26,>=1.21.1 in /usr/local/lib/python3.7/dist-packages (from requests<3,>=2.20.0->mxnet<2.0.0) (1.25.11)\n",
            "Requirement already satisfied: certifi>=2017.4.17 in /usr/local/lib/python3.7/dist-packages (from requests<3,>=2.20.0->mxnet<2.0.0) (2020.12.5)\n",
            "Requirement already satisfied: autogluon==0.0.16b20201214 in /usr/local/lib/python3.7/dist-packages (0.0.16b20201214)\n",
            "Requirement already satisfied: autogluon.core==0.0.16b20201214 in /usr/local/lib/python3.7/dist-packages (from autogluon==0.0.16b20201214) (0.0.16b20201214)\n",
            "Requirement already satisfied: autogluon.text==0.0.16b20201214 in /usr/local/lib/python3.7/dist-packages (from autogluon==0.0.16b20201214) (0.0.16b20201214)\n",
            "Requirement already satisfied: pytest in /usr/local/lib/python3.7/dist-packages (from autogluon==0.0.16b20201214) (3.6.4)\n",
            "Requirement already satisfied: autogluon.extra==0.0.16b20201214 in /usr/local/lib/python3.7/dist-packages (from autogluon==0.0.16b20201214) (0.0.16b20201214)\n",
            "Requirement already satisfied: autogluon.vision==0.0.16b20201214 in /usr/local/lib/python3.7/dist-packages (from autogluon==0.0.16b20201214) (0.0.16b20201214)\n",
            "Requirement already satisfied: autogluon.tabular==0.0.16b20201214 in /usr/local/lib/python3.7/dist-packages (from autogluon==0.0.16b20201214) (0.0.16b20201214)\n",
            "Requirement already satisfied: autogluon.mxnet==0.0.16b20201214 in /usr/local/lib/python3.7/dist-packages (from autogluon==0.0.16b20201214) (0.0.16b20201214)\n",
            "Requirement already satisfied: paramiko>=2.4 in /usr/local/lib/python3.7/dist-packages (from autogluon.core==0.0.16b20201214->autogluon==0.0.16b20201214) (2.7.2)\n",
            "Requirement already satisfied: scikit-learn<0.24,>=0.22.0 in /usr/local/lib/python3.7/dist-packages (from autogluon.core==0.0.16b20201214->autogluon==0.0.16b20201214) (0.22.2.post1)\n",
            "Requirement already satisfied: graphviz<0.9.0,>=0.8.1 in /usr/local/lib/python3.7/dist-packages (from autogluon.core==0.0.16b20201214->autogluon==0.0.16b20201214) (0.8.4)\n",
            "Requirement already satisfied: matplotlib in /usr/local/lib/python3.7/dist-packages (from autogluon.core==0.0.16b20201214->autogluon==0.0.16b20201214) (3.2.2)\n",
            "Requirement already satisfied: cython in /usr/local/lib/python3.7/dist-packages (from autogluon.core==0.0.16b20201214->autogluon==0.0.16b20201214) (0.29.22)\n",
            "Requirement already satisfied: distributed>=2.6.0 in /usr/local/lib/python3.7/dist-packages (from autogluon.core==0.0.16b20201214->autogluon==0.0.16b20201214) (2021.4.0)\n",
            "Requirement already satisfied: tqdm>=4.38.0 in /usr/local/lib/python3.7/dist-packages (from autogluon.core==0.0.16b20201214->autogluon==0.0.16b20201214) (4.41.1)\n",
            "Requirement already satisfied: requests in /usr/local/lib/python3.7/dist-packages (from autogluon.core==0.0.16b20201214->autogluon==0.0.16b20201214) (2.23.0)\n",
            "Requirement already satisfied: dill==0.3.3 in /usr/local/lib/python3.7/dist-packages (from autogluon.core==0.0.16b20201214->autogluon==0.0.16b20201214) (0.3.3)\n",
            "Requirement already satisfied: numpy>=1.16.0 in /usr/local/lib/python3.7/dist-packages (from autogluon.core==0.0.16b20201214->autogluon==0.0.16b20201214) (1.19.5)\n",
            "Requirement already satisfied: autograd>=1.3 in /usr/local/lib/python3.7/dist-packages (from autogluon.core==0.0.16b20201214->autogluon==0.0.16b20201214) (1.3)\n",
            "Requirement already satisfied: dask>=2.6.0 in /usr/local/lib/python3.7/dist-packages (from autogluon.core==0.0.16b20201214->autogluon==0.0.16b20201214) (2021.4.0)\n",
            "Requirement already satisfied: scikit-optimize in /usr/local/lib/python3.7/dist-packages (from autogluon.core==0.0.16b20201214->autogluon==0.0.16b20201214) (0.8.1)\n",
            "Requirement already satisfied: tornado>=5.0.1 in /usr/local/lib/python3.7/dist-packages (from autogluon.core==0.0.16b20201214->autogluon==0.0.16b20201214) (5.1.1)\n",
            "Requirement already satisfied: ConfigSpace<=0.4.16 in /usr/local/lib/python3.7/dist-packages (from autogluon.core==0.0.16b20201214->autogluon==0.0.16b20201214) (0.4.16)\n",
            "Requirement already satisfied: pandas<2.0,>=1.0.0 in /usr/local/lib/python3.7/dist-packages (from autogluon.core==0.0.16b20201214->autogluon==0.0.16b20201214) (1.1.5)\n",
            "Requirement already satisfied: scipy<1.5.0,>=1.3.3 in /usr/local/lib/python3.7/dist-packages (from autogluon.core==0.0.16b20201214->autogluon==0.0.16b20201214) (1.4.1)\n",
            "Requirement already satisfied: boto3 in /usr/local/lib/python3.7/dist-packages (from autogluon.core==0.0.16b20201214->autogluon==0.0.16b20201214) (1.17.49)\n",
            "Requirement already satisfied: bokeh in /usr/local/lib/python3.7/dist-packages (from autogluon.extra==0.0.16b20201214->autogluon==0.0.16b20201214) (2.2.0.dev4)\n",
            "Requirement already satisfied: openml in /usr/local/lib/python3.7/dist-packages (from autogluon.extra==0.0.16b20201214->autogluon==0.0.16b20201214) (0.12.0)\n",
            "Requirement already satisfied: gluoncv==0.9.0 in /usr/local/lib/python3.7/dist-packages (from autogluon.extra==0.0.16b20201214->autogluon==0.0.16b20201214) (0.9.0)\n",
            "Requirement already satisfied: Pillow<=6.2.1 in /usr/local/lib/python3.7/dist-packages (from autogluon.mxnet==0.0.16b20201214->autogluon==0.0.16b20201214) (6.2.1)\n",
            "Requirement already satisfied: psutil<=5.7.0,>=5.0.0 in /usr/local/lib/python3.7/dist-packages (from autogluon.tabular==0.0.16b20201214->autogluon==0.0.16b20201214) (5.4.8)\n",
            "Requirement already satisfied: catboost<0.25,>=0.23.0 in /usr/local/lib/python3.7/dist-packages (from autogluon.tabular==0.0.16b20201214->autogluon==0.0.16b20201214) (0.24.4)\n",
            "Requirement already satisfied: lightgbm<4.0,>=3.0 in /usr/local/lib/python3.7/dist-packages (from autogluon.tabular==0.0.16b20201214->autogluon==0.0.16b20201214) (3.2.0)\n",
            "Requirement already satisfied: xgboost<1.3,>=1.2 in /usr/local/lib/python3.7/dist-packages (from autogluon.tabular==0.0.16b20201214->autogluon==0.0.16b20201214) (1.2.1)\n",
            "Requirement already satisfied: networkx<3.0,>=2.3 in /usr/local/lib/python3.7/dist-packages (from autogluon.tabular==0.0.16b20201214->autogluon==0.0.16b20201214) (2.5)\n",
            "Requirement already satisfied: pyarrow<=1.0.0 in /usr/local/lib/python3.7/dist-packages (from autogluon.text==0.0.16b20201214->autogluon==0.0.16b20201214) (1.0.0)\n",
            "Requirement already satisfied: autogluon-contrib-nlp in /usr/local/lib/python3.7/dist-packages (from autogluon.text==0.0.16b20201214->autogluon==0.0.16b20201214) (0.0.1b20210201)\n",
            "Requirement already satisfied: d8<1.0,>=0.0.2 in /usr/local/lib/python3.7/dist-packages (from autogluon.vision==0.0.16b20201214->autogluon==0.0.16b20201214) (0.0.2.post0)\n",
            "Requirement already satisfied: yacs in /usr/local/lib/python3.7/dist-packages (from gluoncv==0.9.0->autogluon.extra==0.0.16b20201214->autogluon==0.0.16b20201214) (0.1.8)\n",
            "Requirement already satisfied: portalocker in /usr/local/lib/python3.7/dist-packages (from gluoncv==0.9.0->autogluon.extra==0.0.16b20201214->autogluon==0.0.16b20201214) (2.0.0)\n",
            "Requirement already satisfied: autocfg in /usr/local/lib/python3.7/dist-packages (from gluoncv==0.9.0->autogluon.extra==0.0.16b20201214->autogluon==0.0.16b20201214) (0.0.8)\n",
            "Requirement already satisfied: decord in /usr/local/lib/python3.7/dist-packages (from gluoncv==0.9.0->autogluon.extra==0.0.16b20201214->autogluon==0.0.16b20201214) (0.5.2)\n",
            "Requirement already satisfied: pyyaml in /usr/local/lib/python3.7/dist-packages (from gluoncv==0.9.0->autogluon.extra==0.0.16b20201214->autogluon==0.0.16b20201214) (3.13)\n",
            "Requirement already satisfied: opencv-python in /usr/local/lib/python3.7/dist-packages (from gluoncv==0.9.0->autogluon.extra==0.0.16b20201214->autogluon==0.0.16b20201214) (4.1.2.30)\n",
            "Requirement already satisfied: tensorboardx in /usr/local/lib/python3.7/dist-packages (from gluoncv==0.9.0->autogluon.extra==0.0.16b20201214->autogluon==0.0.16b20201214) (2.2)\n",
            "Requirement already satisfied: future>=0.15.2 in /usr/local/lib/python3.7/dist-packages (from autograd>=1.3->autogluon.core==0.0.16b20201214->autogluon==0.0.16b20201214) (0.16.0)\n",
            "Requirement already satisfied: plotly in /usr/local/lib/python3.7/dist-packages (from catboost<0.25,>=0.23.0->autogluon.tabular==0.0.16b20201214->autogluon==0.0.16b20201214) (4.4.1)\n",
            "Requirement already satisfied: six in /usr/local/lib/python3.7/dist-packages (from catboost<0.25,>=0.23.0->autogluon.tabular==0.0.16b20201214->autogluon==0.0.16b20201214) (1.15.0)\n",
            "Requirement already satisfied: pyparsing in /usr/local/lib/python3.7/dist-packages (from ConfigSpace<=0.4.16->autogluon.core==0.0.16b20201214->autogluon==0.0.16b20201214) (2.4.7)\n",
            "Requirement already satisfied: kaggle in /usr/local/lib/python3.7/dist-packages (from d8<1.0,>=0.0.2->autogluon.vision==0.0.16b20201214->autogluon==0.0.16b20201214) (1.5.12)\n",
            "Requirement already satisfied: xxhash in /usr/local/lib/python3.7/dist-packages (from d8<1.0,>=0.0.2->autogluon.vision==0.0.16b20201214->autogluon==0.0.16b20201214) (2.0.0)\n",
            "Requirement already satisfied: toolz>=0.8.2 in /usr/local/lib/python3.7/dist-packages (from dask>=2.6.0->autogluon.core==0.0.16b20201214->autogluon==0.0.16b20201214) (0.11.1)\n",
            "Requirement already satisfied: partd>=0.3.10 in /usr/local/lib/python3.7/dist-packages (from dask>=2.6.0->autogluon.core==0.0.16b20201214->autogluon==0.0.16b20201214) (1.2.0)\n",
            "Requirement already satisfied: fsspec>=0.6.0 in /usr/local/lib/python3.7/dist-packages (from dask>=2.6.0->autogluon.core==0.0.16b20201214->autogluon==0.0.16b20201214) (0.9.0)\n",
            "Requirement already satisfied: cloudpickle>=1.1.1 in /usr/local/lib/python3.7/dist-packages (from dask>=2.6.0->autogluon.core==0.0.16b20201214->autogluon==0.0.16b20201214) (1.6.0)\n",
            "Requirement already satisfied: msgpack>=0.6.0 in /usr/local/lib/python3.7/dist-packages (from distributed>=2.6.0->autogluon.core==0.0.16b20201214->autogluon==0.0.16b20201214) (1.0.2)\n",
            "Requirement already satisfied: sortedcontainers!=2.0.0,!=2.0.1 in /usr/local/lib/python3.7/dist-packages (from distributed>=2.6.0->autogluon.core==0.0.16b20201214->autogluon==0.0.16b20201214) (2.3.0)\n",
            "Requirement already satisfied: setuptools in /usr/local/lib/python3.7/dist-packages (from distributed>=2.6.0->autogluon.core==0.0.16b20201214->autogluon==0.0.16b20201214) (56.0.0)\n",
            "Requirement already satisfied: zict>=0.1.3 in /usr/local/lib/python3.7/dist-packages (from distributed>=2.6.0->autogluon.core==0.0.16b20201214->autogluon==0.0.16b20201214) (2.0.0)\n",
            "Requirement already satisfied: click>=6.6 in /usr/local/lib/python3.7/dist-packages (from distributed>=2.6.0->autogluon.core==0.0.16b20201214->autogluon==0.0.16b20201214) (7.1.2)\n",
            "Requirement already satisfied: tblib>=1.6.0 in /usr/local/lib/python3.7/dist-packages (from distributed>=2.6.0->autogluon.core==0.0.16b20201214->autogluon==0.0.16b20201214) (1.7.0)\n",
            "Requirement already satisfied: importlib-metadata in /usr/local/lib/python3.7/dist-packages (from fsspec>=0.6.0->dask>=2.6.0->autogluon.core==0.0.16b20201214->autogluon==0.0.16b20201214) (3.8.1)\n",
            "Requirement already satisfied: wheel in /usr/local/lib/python3.7/dist-packages (from lightgbm<4.0,>=3.0->autogluon.tabular==0.0.16b20201214->autogluon==0.0.16b20201214) (0.36.2)\n",
            "Requirement already satisfied: decorator>=4.3.0 in /usr/local/lib/python3.7/dist-packages (from networkx<3.0,>=2.3->autogluon.tabular==0.0.16b20201214->autogluon==0.0.16b20201214) (4.4.2)\n",
            "Requirement already satisfied: python-dateutil>=2.7.3 in /usr/local/lib/python3.7/dist-packages (from pandas<2.0,>=1.0.0->autogluon.core==0.0.16b20201214->autogluon==0.0.16b20201214) (2.8.1)\n",
            "Requirement already satisfied: pytz>=2017.2 in /usr/local/lib/python3.7/dist-packages (from pandas<2.0,>=1.0.0->autogluon.core==0.0.16b20201214->autogluon==0.0.16b20201214) (2018.9)\n",
            "Requirement already satisfied: pynacl>=1.0.1 in /usr/local/lib/python3.7/dist-packages (from paramiko>=2.4->autogluon.core==0.0.16b20201214->autogluon==0.0.16b20201214) (1.4.0)\n",
            "Requirement already satisfied: cryptography>=2.5 in /usr/local/lib/python3.7/dist-packages (from paramiko>=2.4->autogluon.core==0.0.16b20201214->autogluon==0.0.16b20201214) (3.4.7)\n",
            "Requirement already satisfied: bcrypt>=3.1.3 in /usr/local/lib/python3.7/dist-packages (from paramiko>=2.4->autogluon.core==0.0.16b20201214->autogluon==0.0.16b20201214) (3.2.0)\n",
            "Requirement already satisfied: cffi>=1.1 in /usr/local/lib/python3.7/dist-packages (from bcrypt>=3.1.3->paramiko>=2.4->autogluon.core==0.0.16b20201214->autogluon==0.0.16b20201214) (1.14.5)\n",
            "Requirement already satisfied: pycparser in /usr/local/lib/python3.7/dist-packages (from cffi>=1.1->bcrypt>=3.1.3->paramiko>=2.4->autogluon.core==0.0.16b20201214->autogluon==0.0.16b20201214) (2.20)\n",
            "Requirement already satisfied: locket in /usr/local/lib/python3.7/dist-packages (from partd>=0.3.10->dask>=2.6.0->autogluon.core==0.0.16b20201214->autogluon==0.0.16b20201214) (0.2.1)\n",
            "Requirement already satisfied: joblib>=0.11 in /usr/local/lib/python3.7/dist-packages (from scikit-learn<0.24,>=0.22.0->autogluon.core==0.0.16b20201214->autogluon==0.0.16b20201214) (1.0.1)\n",
            "Requirement already satisfied: heapdict in /usr/local/lib/python3.7/dist-packages (from zict>=0.1.3->distributed>=2.6.0->autogluon.core==0.0.16b20201214->autogluon==0.0.16b20201214) (1.0.1)\n",
            "Requirement already satisfied: protobuf in /usr/local/lib/python3.7/dist-packages (from autogluon-contrib-nlp->autogluon.text==0.0.16b20201214->autogluon==0.0.16b20201214) (3.12.4)\n",
            "Requirement already satisfied: sacremoses>=0.0.38 in /usr/local/lib/python3.7/dist-packages (from autogluon-contrib-nlp->autogluon.text==0.0.16b20201214->autogluon==0.0.16b20201214) (0.0.44)\n",
            "Requirement already satisfied: regex in /usr/local/lib/python3.7/dist-packages (from autogluon-contrib-nlp->autogluon.text==0.0.16b20201214->autogluon==0.0.16b20201214) (2019.12.20)\n",
            "Requirement already satisfied: contextvars in /usr/local/lib/python3.7/dist-packages (from autogluon-contrib-nlp->autogluon.text==0.0.16b20201214->autogluon==0.0.16b20201214) (2.4)\n",
            "Requirement already satisfied: sentencepiece==0.1.95 in /usr/local/lib/python3.7/dist-packages (from autogluon-contrib-nlp->autogluon.text==0.0.16b20201214->autogluon==0.0.16b20201214) (0.1.95)\n",
            "Requirement already satisfied: sacrebleu in /usr/local/lib/python3.7/dist-packages (from autogluon-contrib-nlp->autogluon.text==0.0.16b20201214->autogluon==0.0.16b20201214) (1.5.1)\n",
            "Requirement already satisfied: tokenizers==0.9.4 in /usr/local/lib/python3.7/dist-packages (from autogluon-contrib-nlp->autogluon.text==0.0.16b20201214->autogluon==0.0.16b20201214) (0.9.4)\n",
            "Requirement already satisfied: flake8 in /usr/local/lib/python3.7/dist-packages (from autogluon-contrib-nlp->autogluon.text==0.0.16b20201214->autogluon==0.0.16b20201214) (3.9.0)\n",
            "Requirement already satisfied: typing-extensions>=3.7.4 in /usr/local/lib/python3.7/dist-packages (from bokeh->autogluon.extra==0.0.16b20201214->autogluon==0.0.16b20201214) (3.7.4.3)\n",
            "Requirement already satisfied: Jinja2>=2.7 in /usr/local/lib/python3.7/dist-packages (from bokeh->autogluon.extra==0.0.16b20201214->autogluon==0.0.16b20201214) (2.11.3)\n",
            "Requirement already satisfied: packaging>=16.8 in /usr/local/lib/python3.7/dist-packages (from bokeh->autogluon.extra==0.0.16b20201214->autogluon==0.0.16b20201214) (20.9)\n",
            "Requirement already satisfied: MarkupSafe>=0.23 in /usr/local/lib/python3.7/dist-packages (from Jinja2>=2.7->bokeh->autogluon.extra==0.0.16b20201214->autogluon==0.0.16b20201214) (1.1.1)\n",
            "Requirement already satisfied: botocore<1.21.0,>=1.20.49 in /usr/local/lib/python3.7/dist-packages (from boto3->autogluon.core==0.0.16b20201214->autogluon==0.0.16b20201214) (1.20.49)\n",
            "Requirement already satisfied: s3transfer<0.4.0,>=0.3.0 in /usr/local/lib/python3.7/dist-packages (from boto3->autogluon.core==0.0.16b20201214->autogluon==0.0.16b20201214) (0.3.6)\n",
            "Requirement already satisfied: jmespath<1.0.0,>=0.7.1 in /usr/local/lib/python3.7/dist-packages (from boto3->autogluon.core==0.0.16b20201214->autogluon==0.0.16b20201214) (0.10.0)\n",
            "Requirement already satisfied: urllib3<1.27,>=1.25.4 in /usr/local/lib/python3.7/dist-packages (from botocore<1.21.0,>=1.20.49->boto3->autogluon.core==0.0.16b20201214->autogluon==0.0.16b20201214) (1.25.11)\n",
            "Requirement already satisfied: immutables>=0.9 in /usr/local/lib/python3.7/dist-packages (from contextvars->autogluon-contrib-nlp->autogluon.text==0.0.16b20201214->autogluon==0.0.16b20201214) (0.15)\n",
            "Requirement already satisfied: pyflakes<2.4.0,>=2.3.0 in /usr/local/lib/python3.7/dist-packages (from flake8->autogluon-contrib-nlp->autogluon.text==0.0.16b20201214->autogluon==0.0.16b20201214) (2.3.1)\n",
            "Requirement already satisfied: pycodestyle<2.8.0,>=2.7.0 in /usr/local/lib/python3.7/dist-packages (from flake8->autogluon-contrib-nlp->autogluon.text==0.0.16b20201214->autogluon==0.0.16b20201214) (2.7.0)\n",
            "Requirement already satisfied: mccabe<0.7.0,>=0.6.0 in /usr/local/lib/python3.7/dist-packages (from flake8->autogluon-contrib-nlp->autogluon.text==0.0.16b20201214->autogluon==0.0.16b20201214) (0.6.1)\n",
            "Requirement already satisfied: zipp>=0.5 in /usr/local/lib/python3.7/dist-packages (from importlib-metadata->fsspec>=0.6.0->dask>=2.6.0->autogluon.core==0.0.16b20201214->autogluon==0.0.16b20201214) (3.4.1)\n",
            "Requirement already satisfied: certifi in /usr/local/lib/python3.7/dist-packages (from kaggle->d8<1.0,>=0.0.2->autogluon.vision==0.0.16b20201214->autogluon==0.0.16b20201214) (2020.12.5)\n",
            "Requirement already satisfied: python-slugify in /usr/local/lib/python3.7/dist-packages (from kaggle->d8<1.0,>=0.0.2->autogluon.vision==0.0.16b20201214->autogluon==0.0.16b20201214) (4.0.1)\n",
            "Requirement already satisfied: kiwisolver>=1.0.1 in /usr/local/lib/python3.7/dist-packages (from matplotlib->autogluon.core==0.0.16b20201214->autogluon==0.0.16b20201214) (1.3.1)\n",
            "Requirement already satisfied: cycler>=0.10 in /usr/local/lib/python3.7/dist-packages (from matplotlib->autogluon.core==0.0.16b20201214->autogluon==0.0.16b20201214) (0.10.0)\n",
            "Requirement already satisfied: minio in /usr/local/lib/python3.7/dist-packages (from openml->autogluon.extra==0.0.16b20201214->autogluon==0.0.16b20201214) (7.0.3)\n",
            "Requirement already satisfied: xmltodict in /usr/local/lib/python3.7/dist-packages (from openml->autogluon.extra==0.0.16b20201214->autogluon==0.0.16b20201214) (0.12.0)\n",
            "Requirement already satisfied: liac-arff>=2.4.0 in /usr/local/lib/python3.7/dist-packages (from openml->autogluon.extra==0.0.16b20201214->autogluon==0.0.16b20201214) (2.5.0)\n",
            "Requirement already satisfied: retrying>=1.3.3 in /usr/local/lib/python3.7/dist-packages (from plotly->catboost<0.25,>=0.23.0->autogluon.tabular==0.0.16b20201214->autogluon==0.0.16b20201214) (1.3.3)\n",
            "Requirement already satisfied: pluggy<0.8,>=0.5 in /usr/local/lib/python3.7/dist-packages (from pytest->autogluon==0.0.16b20201214) (0.7.1)\n",
            "Requirement already satisfied: attrs>=17.4.0 in /usr/local/lib/python3.7/dist-packages (from pytest->autogluon==0.0.16b20201214) (20.3.0)\n",
            "Requirement already satisfied: more-itertools>=4.0.0 in /usr/local/lib/python3.7/dist-packages (from pytest->autogluon==0.0.16b20201214) (8.7.0)\n",
            "Requirement already satisfied: atomicwrites>=1.0 in /usr/local/lib/python3.7/dist-packages (from pytest->autogluon==0.0.16b20201214) (1.4.0)\n",
            "Requirement already satisfied: py>=1.5.0 in /usr/local/lib/python3.7/dist-packages (from pytest->autogluon==0.0.16b20201214) (1.10.0)\n",
            "Requirement already satisfied: text-unidecode>=1.3 in /usr/local/lib/python3.7/dist-packages (from python-slugify->kaggle->d8<1.0,>=0.0.2->autogluon.vision==0.0.16b20201214->autogluon==0.0.16b20201214) (1.3)\n",
            "Requirement already satisfied: chardet<4,>=3.0.2 in /usr/local/lib/python3.7/dist-packages (from requests->autogluon.core==0.0.16b20201214->autogluon==0.0.16b20201214) (3.0.4)\n",
            "Requirement already satisfied: idna<3,>=2.5 in /usr/local/lib/python3.7/dist-packages (from requests->autogluon.core==0.0.16b20201214->autogluon==0.0.16b20201214) (2.10)\n",
            "Requirement already satisfied: pyaml>=16.9 in /usr/local/lib/python3.7/dist-packages (from scikit-optimize->autogluon.core==0.0.16b20201214->autogluon==0.0.16b20201214) (20.4.0)\n",
            "Requirement already satisfied: ipykernel in /usr/local/lib/python3.7/dist-packages (5.5.3)\n",
            "Requirement already satisfied: traitlets>=4.1.0 in /usr/local/lib/python3.7/dist-packages (from ipykernel) (5.0.5)\n",
            "Requirement already satisfied: ipython>=5.0.0 in /usr/local/lib/python3.7/dist-packages (from ipykernel) (5.5.0)\n",
            "Requirement already satisfied: jupyter-client in /usr/local/lib/python3.7/dist-packages (from ipykernel) (5.3.5)\n",
            "Requirement already satisfied: tornado>=4.2 in /usr/local/lib/python3.7/dist-packages (from ipykernel) (5.1.1)\n",
            "Requirement already satisfied: setuptools>=18.5 in /usr/local/lib/python3.7/dist-packages (from ipython>=5.0.0->ipykernel) (56.0.0)\n",
            "Requirement already satisfied: decorator in /usr/local/lib/python3.7/dist-packages (from ipython>=5.0.0->ipykernel) (4.4.2)\n",
            "Requirement already satisfied: simplegeneric>0.8 in /usr/local/lib/python3.7/dist-packages (from ipython>=5.0.0->ipykernel) (0.8.1)\n",
            "Requirement already satisfied: pygments in /usr/local/lib/python3.7/dist-packages (from ipython>=5.0.0->ipykernel) (2.6.1)\n",
            "Requirement already satisfied: prompt-toolkit<2.0.0,>=1.0.4 in /usr/local/lib/python3.7/dist-packages (from ipython>=5.0.0->ipykernel) (1.0.18)\n",
            "Requirement already satisfied: pexpect in /usr/local/lib/python3.7/dist-packages (from ipython>=5.0.0->ipykernel) (4.8.0)\n",
            "Requirement already satisfied: pickleshare in /usr/local/lib/python3.7/dist-packages (from ipython>=5.0.0->ipykernel) (0.7.5)\n",
            "Requirement already satisfied: wcwidth in /usr/local/lib/python3.7/dist-packages (from prompt-toolkit<2.0.0,>=1.0.4->ipython>=5.0.0->ipykernel) (0.2.5)\n",
            "Requirement already satisfied: six>=1.9.0 in /usr/local/lib/python3.7/dist-packages (from prompt-toolkit<2.0.0,>=1.0.4->ipython>=5.0.0->ipykernel) (1.15.0)\n",
            "Requirement already satisfied: ipython-genutils in /usr/local/lib/python3.7/dist-packages (from traitlets>=4.1.0->ipykernel) (0.2.0)\n",
            "Requirement already satisfied: python-dateutil>=2.1 in /usr/local/lib/python3.7/dist-packages (from jupyter-client->ipykernel) (2.8.1)\n",
            "Requirement already satisfied: pyzmq>=13 in /usr/local/lib/python3.7/dist-packages (from jupyter-client->ipykernel) (22.0.3)\n",
            "Requirement already satisfied: jupyter-core>=4.6.0 in /usr/local/lib/python3.7/dist-packages (from jupyter-client->ipykernel) (4.7.1)\n",
            "Requirement already satisfied: ptyprocess>=0.5 in /usr/local/lib/python3.7/dist-packages (from pexpect->ipython>=5.0.0->ipykernel) (0.7.0)\n"
          ],
          "name": "stdout"
        }
      ]
    },
    {
      "cell_type": "code",
      "metadata": {
        "colab": {
          "base_uri": "https://localhost:8080/"
        },
        "id": "68yBLLDMbPJW",
        "outputId": "206847cb-4f53-45f1-cbf2-032b4ff335cd"
      },
      "source": [
        "import pandas as pd\n",
        "files=pd.ExcelFile(\"/content/Molen_Dataset.xlsx\")\n",
        "files.sheet_names  # see all sheet names\n",
        "\n"
      ],
      "execution_count": null,
      "outputs": [
        {
          "output_type": "execute_result",
          "data": {
            "text/plain": [
              "['molen_2class_testing_dwt',\n",
              " 'molen_2class_testing_raw',\n",
              " 'molen_2class_training_dwt',\n",
              " 'molen_2class_training_raw',\n",
              " 'molen_3class_testing_dwt',\n",
              " 'molen_3class_testing_raw',\n",
              " 'molen_3class_training_dwt',\n",
              " 'molen_3class_training_raw',\n",
              " 'molen_4class_testing_dwt',\n",
              " 'molen_4class_testing_raw',\n",
              " 'molen_4class_training_dwt',\n",
              " 'molen_4class_training_raw',\n",
              " 'molen_regression_testing_dwt',\n",
              " 'molen_regression_testing_raw',\n",
              " 'molen_regression_training_dwt',\n",
              " 'molen_regression_training_raw']"
            ]
          },
          "metadata": {
            "tags": []
          },
          "execution_count": 2
        }
      ]
    },
    {
      "cell_type": "code",
      "metadata": {
        "colab": {
          "base_uri": "https://localhost:8080/",
          "height": 202
        },
        "id": "QK19_C79bRSl",
        "outputId": "abb55a80-4db6-4122-ac65-aa7ea1aa0504"
      },
      "source": [
        "train=files.parse(\"molen_2class_training_raw\")\n",
        "train.head()"
      ],
      "execution_count": null,
      "outputs": [
        {
          "output_type": "execute_result",
          "data": {
            "text/html": [
              "<div>\n",
              "<style scoped>\n",
              "    .dataframe tbody tr th:only-of-type {\n",
              "        vertical-align: middle;\n",
              "    }\n",
              "\n",
              "    .dataframe tbody tr th {\n",
              "        vertical-align: top;\n",
              "    }\n",
              "\n",
              "    .dataframe thead th {\n",
              "        text-align: right;\n",
              "    }\n",
              "</style>\n",
              "<table border=\"1\" class=\"dataframe\">\n",
              "  <thead>\n",
              "    <tr style=\"text-align: right;\">\n",
              "      <th></th>\n",
              "      <th>Label</th>\n",
              "      <th>S1</th>\n",
              "      <th>S2</th>\n",
              "      <th>S3</th>\n",
              "      <th>S4</th>\n",
              "      <th>S5</th>\n",
              "      <th>S6</th>\n",
              "      <th>S7</th>\n",
              "    </tr>\n",
              "  </thead>\n",
              "  <tbody>\n",
              "    <tr>\n",
              "      <th>0</th>\n",
              "      <td>0</td>\n",
              "      <td>22.86</td>\n",
              "      <td>41.24</td>\n",
              "      <td>29.56</td>\n",
              "      <td>49.38</td>\n",
              "      <td>2.21</td>\n",
              "      <td>14.29</td>\n",
              "      <td>55.1</td>\n",
              "    </tr>\n",
              "    <tr>\n",
              "      <th>1</th>\n",
              "      <td>0</td>\n",
              "      <td>22.75</td>\n",
              "      <td>41.50</td>\n",
              "      <td>29.72</td>\n",
              "      <td>49.38</td>\n",
              "      <td>2.23</td>\n",
              "      <td>14.58</td>\n",
              "      <td>55.1</td>\n",
              "    </tr>\n",
              "    <tr>\n",
              "      <th>2</th>\n",
              "      <td>0</td>\n",
              "      <td>22.75</td>\n",
              "      <td>41.50</td>\n",
              "      <td>29.72</td>\n",
              "      <td>49.38</td>\n",
              "      <td>2.22</td>\n",
              "      <td>14.40</td>\n",
              "      <td>55.1</td>\n",
              "    </tr>\n",
              "    <tr>\n",
              "      <th>3</th>\n",
              "      <td>0</td>\n",
              "      <td>22.86</td>\n",
              "      <td>42.56</td>\n",
              "      <td>29.56</td>\n",
              "      <td>49.38</td>\n",
              "      <td>2.22</td>\n",
              "      <td>14.64</td>\n",
              "      <td>55.4</td>\n",
              "    </tr>\n",
              "    <tr>\n",
              "      <th>4</th>\n",
              "      <td>0</td>\n",
              "      <td>23.07</td>\n",
              "      <td>42.03</td>\n",
              "      <td>29.56</td>\n",
              "      <td>49.38</td>\n",
              "      <td>2.22</td>\n",
              "      <td>14.58</td>\n",
              "      <td>55.4</td>\n",
              "    </tr>\n",
              "  </tbody>\n",
              "</table>\n",
              "</div>"
            ],
            "text/plain": [
              "   Label     S1     S2     S3     S4    S5     S6    S7\n",
              "0      0  22.86  41.24  29.56  49.38  2.21  14.29  55.1\n",
              "1      0  22.75  41.50  29.72  49.38  2.23  14.58  55.1\n",
              "2      0  22.75  41.50  29.72  49.38  2.22  14.40  55.1\n",
              "3      0  22.86  42.56  29.56  49.38  2.22  14.64  55.4\n",
              "4      0  23.07  42.03  29.56  49.38  2.22  14.58  55.4"
            ]
          },
          "metadata": {
            "tags": []
          },
          "execution_count": 133
        }
      ]
    },
    {
      "cell_type": "code",
      "metadata": {
        "colab": {
          "base_uri": "https://localhost:8080/",
          "height": 202
        },
        "id": "-uyKRiBUbRVb",
        "outputId": "adeaf1ff-7c31-472f-ed33-5e92b668af87"
      },
      "source": [
        "test=files.parse(\"molen_2class_testing_raw\")\n",
        "test.head()"
      ],
      "execution_count": null,
      "outputs": [
        {
          "output_type": "execute_result",
          "data": {
            "text/html": [
              "<div>\n",
              "<style scoped>\n",
              "    .dataframe tbody tr th:only-of-type {\n",
              "        vertical-align: middle;\n",
              "    }\n",
              "\n",
              "    .dataframe tbody tr th {\n",
              "        vertical-align: top;\n",
              "    }\n",
              "\n",
              "    .dataframe thead th {\n",
              "        text-align: right;\n",
              "    }\n",
              "</style>\n",
              "<table border=\"1\" class=\"dataframe\">\n",
              "  <thead>\n",
              "    <tr style=\"text-align: right;\">\n",
              "      <th></th>\n",
              "      <th>Label</th>\n",
              "      <th>S1</th>\n",
              "      <th>S2</th>\n",
              "      <th>S3</th>\n",
              "      <th>S4</th>\n",
              "      <th>S5</th>\n",
              "      <th>S6</th>\n",
              "      <th>S7</th>\n",
              "    </tr>\n",
              "  </thead>\n",
              "  <tbody>\n",
              "    <tr>\n",
              "      <th>0</th>\n",
              "      <td>0</td>\n",
              "      <td>21.64</td>\n",
              "      <td>32.32</td>\n",
              "      <td>27.53</td>\n",
              "      <td>40.39</td>\n",
              "      <td>2.36</td>\n",
              "      <td>14.88</td>\n",
              "      <td>56.5</td>\n",
              "    </tr>\n",
              "    <tr>\n",
              "      <th>1</th>\n",
              "      <td>0</td>\n",
              "      <td>21.64</td>\n",
              "      <td>32.49</td>\n",
              "      <td>27.53</td>\n",
              "      <td>40.67</td>\n",
              "      <td>2.36</td>\n",
              "      <td>14.82</td>\n",
              "      <td>56.5</td>\n",
              "    </tr>\n",
              "    <tr>\n",
              "      <th>2</th>\n",
              "      <td>0</td>\n",
              "      <td>21.64</td>\n",
              "      <td>32.49</td>\n",
              "      <td>27.67</td>\n",
              "      <td>40.96</td>\n",
              "      <td>2.37</td>\n",
              "      <td>14.88</td>\n",
              "      <td>56.5</td>\n",
              "    </tr>\n",
              "    <tr>\n",
              "      <th>3</th>\n",
              "      <td>0</td>\n",
              "      <td>21.74</td>\n",
              "      <td>32.67</td>\n",
              "      <td>27.81</td>\n",
              "      <td>41.25</td>\n",
              "      <td>2.37</td>\n",
              "      <td>14.94</td>\n",
              "      <td>56.5</td>\n",
              "    </tr>\n",
              "    <tr>\n",
              "      <th>4</th>\n",
              "      <td>0</td>\n",
              "      <td>21.74</td>\n",
              "      <td>32.85</td>\n",
              "      <td>27.81</td>\n",
              "      <td>41.25</td>\n",
              "      <td>2.36</td>\n",
              "      <td>14.94</td>\n",
              "      <td>56.5</td>\n",
              "    </tr>\n",
              "  </tbody>\n",
              "</table>\n",
              "</div>"
            ],
            "text/plain": [
              "   Label     S1     S2     S3     S4    S5     S6    S7\n",
              "0      0  21.64  32.32  27.53  40.39  2.36  14.88  56.5\n",
              "1      0  21.64  32.49  27.53  40.67  2.36  14.82  56.5\n",
              "2      0  21.64  32.49  27.67  40.96  2.37  14.88  56.5\n",
              "3      0  21.74  32.67  27.81  41.25  2.37  14.94  56.5\n",
              "4      0  21.74  32.85  27.81  41.25  2.36  14.94  56.5"
            ]
          },
          "metadata": {
            "tags": []
          },
          "execution_count": 134
        }
      ]
    },
    {
      "cell_type": "code",
      "metadata": {
        "colab": {
          "base_uri": "https://localhost:8080/"
        },
        "id": "pXd5Ak8d0le1",
        "outputId": "7c21cfdf-4060-468c-ca80-09facbf55f54"
      },
      "source": [
        "train.shape,test.shape"
      ],
      "execution_count": null,
      "outputs": [
        {
          "output_type": "execute_result",
          "data": {
            "text/plain": [
              "((700, 8), (700, 8))"
            ]
          },
          "metadata": {
            "tags": []
          },
          "execution_count": 135
        }
      ]
    },
    {
      "cell_type": "code",
      "metadata": {
        "colab": {
          "base_uri": "https://localhost:8080/"
        },
        "id": "55FGY-zr5eLD",
        "outputId": "5db636a1-e0e9-4bbf-c4fc-b6b2f8f51662"
      },
      "source": [
        "train.Label.value_counts()"
      ],
      "execution_count": null,
      "outputs": [
        {
          "output_type": "execute_result",
          "data": {
            "text/plain": [
              "1    406\n",
              "0    294\n",
              "Name: Label, dtype: int64"
            ]
          },
          "metadata": {
            "tags": []
          },
          "execution_count": 136
        }
      ]
    },
    {
      "cell_type": "code",
      "metadata": {
        "colab": {
          "base_uri": "https://localhost:8080/",
          "height": 331
        },
        "id": "ufeoxmo64v5D",
        "outputId": "dd8ad597-35dc-42d4-90c4-49a0e8484f4c"
      },
      "source": [
        "import matplotlib.pyplot as plt\n",
        "\n",
        "[s1,s2,s3,s4,s5,s6,s7]=plt.plot(train.iloc[:,1::])\n",
        "plt.axvline(142,ls=':')\n",
        "plt.text(50,110,\"Fresh\")\n",
        "plt.axvline(142+152,ls=':')\n",
        "plt.text(150,110,\"Semi-Fresh\")\n",
        "#plt.axvline(142+152+406)\n",
        "plt.text(400,110,\"Spoiled\")\n",
        "plt.legend([s1,s2,s3,s4,s5,s6,s7],['MQ135','MQ136','MQ2','MQ4','MQ6','MQ9','DHT22'],\n",
        "           loc=('center right'),bbox_to_anchor=(1, 0.35))\n",
        "plt.xlabel('Time')\n",
        "plt.ylabel('Sensor readings')\n",
        "plt.savefig('raw_data.eps')"
      ],
      "execution_count": null,
      "outputs": [
        {
          "output_type": "stream",
          "text": [
            "The PostScript backend does not support transparency; partially transparent artists will be rendered opaque.\n",
            "The PostScript backend does not support transparency; partially transparent artists will be rendered opaque.\n"
          ],
          "name": "stderr"
        },
        {
          "output_type": "display_data",
          "data": {
            "image/png": "[encoded data removed]",
            "text/plain": [
              "<Figure size 432x288 with 1 Axes>"
            ]
          },
          "metadata": {
            "tags": [],
            "needs_background": "light"
          }
        }
      ]
    },
    {
      "cell_type": "code",
      "metadata": {
        "id": "92gEZJ25bUuH"
      },
      "source": [
        "train_feat=train.iloc[:,1::]\n",
        "train_label=train.iloc[:,0]"
      ],
      "execution_count": null,
      "outputs": []
    },
    {
      "cell_type": "code",
      "metadata": {
        "id": "9O_PaWoybVI1"
      },
      "source": [
        "test_feat=test.iloc[:,1::]\n",
        "test_label=test.iloc[:,0]"
      ],
      "execution_count": null,
      "outputs": []
    },
    {
      "cell_type": "code",
      "metadata": {
        "id": "nsddnQX36hqe"
      },
      "source": [
        "# from sklearn.preprocessing import StandardScaler,MinMaxScaler\n",
        "# scaler=MinMaxScaler()\n",
        "# train_feat=scaler.fit_transform(train_feat)\n",
        "# test_feat=scaler.transform(test_feat)"
      ],
      "execution_count": null,
      "outputs": []
    },
    {
      "cell_type": "code",
      "metadata": {
        "colab": {
          "base_uri": "https://localhost:8080/"
        },
        "id": "-4keTEGH67sx",
        "outputId": "d946262b-0959-44e0-ec42-86a3c68a643f"
      },
      "source": [
        "train_feat.shape"
      ],
      "execution_count": null,
      "outputs": [
        {
          "output_type": "execute_result",
          "data": {
            "text/plain": [
              "(700, 7)"
            ]
          },
          "metadata": {
            "tags": []
          },
          "execution_count": 141
        }
      ]
    },
    {
      "cell_type": "code",
      "metadata": {
        "colab": {
          "base_uri": "https://localhost:8080/",
          "height": 282
        },
        "id": "fuj-YP8dyYgq",
        "outputId": "c4b950eb-15c0-4b12-d630-bc16311af89e"
      },
      "source": [
        "import matplotlib.pyplot as plt\n",
        "from sklearn.decomposition import PCA\n",
        "import pandas as pd\n",
        "import numpy as np\n",
        "\n",
        "pca = PCA().fit(train_feat)\n",
        "plt.plot(np.cumsum(pca.explained_variance_ratio_*100),color='k')\n",
        "plt.xlabel('Number of Components',fontsize=12)\n",
        "plt.ylabel('Variance (%)',fontsize=12) #for each component\n",
        "#plt.title('Scree Plot',fontsize=12)\n",
        "plt.grid()\n",
        "plt.savefig('pca_scree.eps')\n",
        "plt.show()"
      ],
      "execution_count": null,
      "outputs": [
        {
          "output_type": "display_data",
          "data": {
            "image/png": "[encoded data removed]",
            "text/plain": [
              "<Figure size 432x288 with 1 Axes>"
            ]
          },
          "metadata": {
            "tags": [],
            "needs_background": "light"
          }
        }
      ]
    },
    {
      "cell_type": "code",
      "metadata": {
        "id": "EffFT9WhylSm"
      },
      "source": [
        "from sklearn.decomposition import KernelPCA\n",
        "pca=PCA(2)\n",
        "#pca=KernelPCA(n_components=2, kernel='poly')\n",
        "train_feat=pca.fit_transform(train_feat)\n",
        "test_feat=pca.transform(test_feat)"
      ],
      "execution_count": null,
      "outputs": []
    },
    {
      "cell_type": "code",
      "metadata": {
        "colab": {
          "base_uri": "https://localhost:8080/"
        },
        "id": "c1k-M3z0mq0r",
        "outputId": "dec4310d-0906-4244-bfb6-413253088304"
      },
      "source": [
        "train_feat.shape"
      ],
      "execution_count": null,
      "outputs": [
        {
          "output_type": "execute_result",
          "data": {
            "text/plain": [
              "(700, 2)"
            ]
          },
          "metadata": {
            "tags": []
          },
          "execution_count": 144
        }
      ]
    },
    {
      "cell_type": "code",
      "metadata": {
        "colab": {
          "base_uri": "https://localhost:8080/"
        },
        "id": "XHnpXI7WbX7x",
        "outputId": "00f63b67-19c7-4a8c-9193-cb04f2074144"
      },
      "source": [
        "from sklearn.svm import SVC\n",
        "from sklearn.metrics import classification_report\n",
        "\n",
        "clf=SVC()\n",
        "clf.fit(train_feat,train_label)\n",
        "print(clf.score(test_feat,test_label))\n",
        "pred=clf.predict(test_feat)\n",
        "print(classification_report(test_label,pred))"
      ],
      "execution_count": null,
      "outputs": [
        {
          "output_type": "stream",
          "text": [
            "0.9657142857142857\n",
            "              precision    recall  f1-score   support\n",
            "\n",
            "           0       1.00      0.94      0.97       385\n",
            "           1       0.93      1.00      0.96       315\n",
            "\n",
            "    accuracy                           0.97       700\n",
            "   macro avg       0.96      0.97      0.97       700\n",
            "weighted avg       0.97      0.97      0.97       700\n",
            "\n"
          ],
          "name": "stdout"
        }
      ]
    },
    {
      "cell_type": "code",
      "metadata": {
        "colab": {
          "base_uri": "https://localhost:8080/"
        },
        "id": "jO3Q0aaY0e0w",
        "outputId": "5f83bb8f-bda7-4ad3-9661-b4349e37094f"
      },
      "source": [
        "train_feat.shape,test_feat.shape"
      ],
      "execution_count": null,
      "outputs": [
        {
          "output_type": "execute_result",
          "data": {
            "text/plain": [
              "((700, 2), (700, 2))"
            ]
          },
          "metadata": {
            "tags": []
          },
          "execution_count": 146
        }
      ]
    },
    {
      "cell_type": "code",
      "metadata": {
        "colab": {
          "base_uri": "https://localhost:8080/",
          "height": 202
        },
        "id": "aUvBe8bs0Z9f",
        "outputId": "e4682be2-01cb-410e-9fc5-37632bf18a53"
      },
      "source": [
        "train_pca=pd.concat([pd.DataFrame(train_feat),train_label],axis=1)\n",
        "train_pca.columns=['pca_{}'.format(i) for i in range(train_feat.shape[1])]+['Label']\n",
        "train_pca.Label=train_pca.Label.map({0:'Fresh',1:\"Spoiled\"})\n",
        "train_pca.head()"
      ],
      "execution_count": null,
      "outputs": [
        {
          "output_type": "execute_result",
          "data": {
            "text/html": [
              "<div>\n",
              "<style scoped>\n",
              "    .dataframe tbody tr th:only-of-type {\n",
              "        vertical-align: middle;\n",
              "    }\n",
              "\n",
              "    .dataframe tbody tr th {\n",
              "        vertical-align: top;\n",
              "    }\n",
              "\n",
              "    .dataframe thead th {\n",
              "        text-align: right;\n",
              "    }\n",
              "</style>\n",
              "<table border=\"1\" class=\"dataframe\">\n",
              "  <thead>\n",
              "    <tr style=\"text-align: right;\">\n",
              "      <th></th>\n",
              "      <th>pca_0</th>\n",
              "      <th>pca_1</th>\n",
              "      <th>Label</th>\n",
              "    </tr>\n",
              "  </thead>\n",
              "  <tbody>\n",
              "    <tr>\n",
              "      <th>0</th>\n",
              "      <td>-55.918023</td>\n",
              "      <td>22.770695</td>\n",
              "      <td>Fresh</td>\n",
              "    </tr>\n",
              "    <tr>\n",
              "      <th>1</th>\n",
              "      <td>-56.055396</td>\n",
              "      <td>22.904680</td>\n",
              "      <td>Fresh</td>\n",
              "    </tr>\n",
              "    <tr>\n",
              "      <th>2</th>\n",
              "      <td>-56.036812</td>\n",
              "      <td>22.920176</td>\n",
              "      <td>Fresh</td>\n",
              "    </tr>\n",
              "    <tr>\n",
              "      <th>3</th>\n",
              "      <td>-56.368246</td>\n",
              "      <td>23.145386</td>\n",
              "      <td>Fresh</td>\n",
              "    </tr>\n",
              "    <tr>\n",
              "      <th>4</th>\n",
              "      <td>-56.219830</td>\n",
              "      <td>22.937029</td>\n",
              "      <td>Fresh</td>\n",
              "    </tr>\n",
              "  </tbody>\n",
              "</table>\n",
              "</div>"
            ],
            "text/plain": [
              "       pca_0      pca_1  Label\n",
              "0 -55.918023  22.770695  Fresh\n",
              "1 -56.055396  22.904680  Fresh\n",
              "2 -56.036812  22.920176  Fresh\n",
              "3 -56.368246  23.145386  Fresh\n",
              "4 -56.219830  22.937029  Fresh"
            ]
          },
          "metadata": {
            "tags": []
          },
          "execution_count": 147
        }
      ]
    },
    {
      "cell_type": "code",
      "metadata": {
        "colab": {
          "base_uri": "https://localhost:8080/",
          "height": 338
        },
        "id": "JSRf6A9KPiBQ",
        "outputId": "201799b0-4d2a-4315-e409-d9cc8ecc6974"
      },
      "source": [
        "import matplotlib.pyplot as plt\n",
        "\n",
        "[pca1,pca2]=plt.plot(train_pca.iloc[:,0:-1])\n",
        "plt.axvline(142,ls=':')\n",
        "plt.text(50,80,\"Fresh\")\n",
        "plt.axvline(142+152,ls=':')\n",
        "plt.text(150,80,\"Semi-Fresh\")\n",
        "#plt.axvline(142+152+406)\n",
        "plt.text(400,80,\"Spoiled\")\n",
        "plt.legend([pca1,pca2],['pca1','pca2'],\n",
        "           loc=('center right'),bbox_to_anchor=(1, 0.35))\n",
        "plt.xlabel('Time')\n",
        "plt.ylabel('Principle components')\n",
        "plt.savefig('pca_data.eps')"
      ],
      "execution_count": null,
      "outputs": [
        {
          "output_type": "stream",
          "text": [
            "The PostScript backend does not support transparency; partially transparent artists will be rendered opaque.\n",
            "The PostScript backend does not support transparency; partially transparent artists will be rendered opaque.\n"
          ],
          "name": "stderr"
        },
        {
          "output_type": "display_data",
          "data": {
            "image/png": "[encoded data removed]",
            "text/plain": [
              "<Figure size 432x288 with 1 Axes>"
            ]
          },
          "metadata": {
            "tags": [],
            "needs_background": "light"
          }
        }
      ]
    },
    {
      "cell_type": "code",
      "metadata": {
        "colab": {
          "base_uri": "https://localhost:8080/",
          "height": 202
        },
        "id": "s9FnLNYg06Y5",
        "outputId": "290ec264-a2a9-4792-befa-44c8920714a6"
      },
      "source": [
        "test_pca=pd.concat([pd.DataFrame(test_feat),test_label],axis=1)\n",
        "test_pca.columns=['pca_{}'.format(i) for i in range(train_feat.shape[1])]+['Label']\n",
        "test_pca.Label=test_pca.Label.map({0:'Fresh',1:\"Spoiled\"})\n",
        "test_pca.head()"
      ],
      "execution_count": null,
      "outputs": [
        {
          "output_type": "execute_result",
          "data": {
            "text/html": [
              "<div>\n",
              "<style scoped>\n",
              "    .dataframe tbody tr th:only-of-type {\n",
              "        vertical-align: middle;\n",
              "    }\n",
              "\n",
              "    .dataframe tbody tr th {\n",
              "        vertical-align: top;\n",
              "    }\n",
              "\n",
              "    .dataframe thead th {\n",
              "        text-align: right;\n",
              "    }\n",
              "</style>\n",
              "<table border=\"1\" class=\"dataframe\">\n",
              "  <thead>\n",
              "    <tr style=\"text-align: right;\">\n",
              "      <th></th>\n",
              "      <th>pca_0</th>\n",
              "      <th>pca_1</th>\n",
              "      <th>Label</th>\n",
              "    </tr>\n",
              "  </thead>\n",
              "  <tbody>\n",
              "    <tr>\n",
              "      <th>0</th>\n",
              "      <td>-47.623721</td>\n",
              "      <td>13.948260</td>\n",
              "      <td>Fresh</td>\n",
              "    </tr>\n",
              "    <tr>\n",
              "      <th>1</th>\n",
              "      <td>-47.798340</td>\n",
              "      <td>14.171062</td>\n",
              "      <td>Fresh</td>\n",
              "    </tr>\n",
              "    <tr>\n",
              "      <th>2</th>\n",
              "      <td>-47.964120</td>\n",
              "      <td>14.374942</td>\n",
              "      <td>Fresh</td>\n",
              "    </tr>\n",
              "    <tr>\n",
              "      <th>3</th>\n",
              "      <td>-48.225492</td>\n",
              "      <td>14.621806</td>\n",
              "      <td>Fresh</td>\n",
              "    </tr>\n",
              "    <tr>\n",
              "      <th>4</th>\n",
              "      <td>-48.297071</td>\n",
              "      <td>14.678736</td>\n",
              "      <td>Fresh</td>\n",
              "    </tr>\n",
              "  </tbody>\n",
              "</table>\n",
              "</div>"
            ],
            "text/plain": [
              "       pca_0      pca_1  Label\n",
              "0 -47.623721  13.948260  Fresh\n",
              "1 -47.798340  14.171062  Fresh\n",
              "2 -47.964120  14.374942  Fresh\n",
              "3 -48.225492  14.621806  Fresh\n",
              "4 -48.297071  14.678736  Fresh"
            ]
          },
          "metadata": {
            "tags": []
          },
          "execution_count": 149
        }
      ]
    },
    {
      "cell_type": "code",
      "metadata": {
        "colab": {
          "base_uri": "https://localhost:8080/"
        },
        "id": "N1vWskt9vxPm",
        "outputId": "aeb411f9-2f8c-454d-bf1f-89b5dd16eb37"
      },
      "source": [
        "train_pca.Label.value_counts()"
      ],
      "execution_count": null,
      "outputs": [
        {
          "output_type": "execute_result",
          "data": {
            "text/plain": [
              "Spoiled    406\n",
              "Fresh      294\n",
              "Name: Label, dtype: int64"
            ]
          },
          "metadata": {
            "tags": []
          },
          "execution_count": 150
        }
      ]
    },
    {
      "cell_type": "code",
      "metadata": {
        "id": "eWAkr4ulc8C8"
      },
      "source": [
        ""
      ],
      "execution_count": null,
      "outputs": []
    },
    {
      "cell_type": "code",
      "metadata": {
        "colab": {
          "base_uri": "https://localhost:8080/",
          "height": 321
        },
        "id": "hd4zhE7sBc77",
        "outputId": "d070bdef-0b47-488d-952d-4ebcb5af16bd"
      },
      "source": [
        "import matplotlib.pyplot as plt\n",
        "\n",
        "fig = plt.figure()\n",
        "ax = fig.add_subplot(1,1,1) \n",
        "ax.set_xlabel('Principal Component 1', fontsize = 12)\n",
        "ax.set_ylabel('Principal Component 2', fontsize = 12)\n",
        "#ax.set_title('2 component PCA', fontsize = 20)\n",
        "targets = list(train_pca.Label.unique())\n",
        "colors = ['r', 'g']\n",
        "for target, color in zip(targets,colors):\n",
        "    indicesToKeep = train_pca['Label'] == target\n",
        "    ax.scatter(train_pca.loc[indicesToKeep, 'pca_0']\n",
        "               , train_pca.loc[indicesToKeep, 'pca_1']\n",
        "               , c = color\n",
        "               , s = 20)\n",
        "ax.legend(targets,fontsize = 12,loc='upper center')\n",
        "ax.grid()\n",
        "plt.savefig('pca_plot.eps')\n"
      ],
      "execution_count": null,
      "outputs": [
        {
          "output_type": "stream",
          "text": [
            "The PostScript backend does not support transparency; partially transparent artists will be rendered opaque.\n",
            "The PostScript backend does not support transparency; partially transparent artists will be rendered opaque.\n"
          ],
          "name": "stderr"
        },
        {
          "output_type": "display_data",
          "data": {
            "image/png": "[encoded data removed]",
            "text/plain": [
              "<Figure size 432x288 with 1 Axes>"
            ]
          },
          "metadata": {
            "tags": [],
            "needs_background": "light"
          }
        }
      ]
    },
    {
      "cell_type": "code",
      "metadata": {
        "colab": {
          "base_uri": "https://localhost:8080/"
        },
        "id": "KyvibWvnYECS",
        "outputId": "9b60b444-4a01-4dae-c8ea-c18a1f2853e7"
      },
      "source": [
        "%%time\n",
        "from autogluon.tabular import TabularPrediction as task\n",
        "clf=task.fit(train_data=train_pca,label='Label',\n",
        "             #eval_metric='f1_macro',\n",
        "             hyperparameter_tune=False,feature_prune=False,\n",
        "            #presets='best_quality'\n",
        "             )\n"
      ],
      "execution_count": null,
      "outputs": [
        {
          "output_type": "stream",
          "text": [
            "No output_directory specified. Models will be saved in: AutogluonModels/ag-20210411_190855/\n",
            "Beginning AutoGluon training ...\n",
            "AutoGluon will save models to AutogluonModels/ag-20210411_190855/\n",
            "AutoGluon Version:  0.0.16b20201214\n",
            "Train Data Rows:    700\n",
            "Train Data Columns: 2\n",
            "Preprocessing data ...\n",
            "AutoGluon infers your prediction problem is: 'binary' (because only two unique label-values observed).\n",
            "\t2 unique label values:  ['Fresh', 'Spoiled']\n",
            "\tIf 'binary' is not the correct problem_type, please manually specify the problem_type argument in fit() (You may specify problem_type as one of: ['binary', 'multiclass', 'regression'])\n",
            "Selected class <--> label mapping:  class 1 = Spoiled, class 0 = Fresh\n",
            "Using Feature Generators to preprocess the data ...\n",
            "Fitting AutoMLPipelineFeatureGenerator...\n",
            "\tAvailable Memory:                    12625.73 MB\n",
            "\tTrain Data (Original)  Memory Usage: 0.01 MB (0.0% of available memory)\n",
            "\tInferring data type of each feature based on column values. Set feature_metadata_in to manually specify special dtypes of the features.\n",
            "\tStage 1 Generators:\n",
            "\t\tFitting AsTypeFeatureGenerator...\n",
            "\tStage 2 Generators:\n",
            "\t\tFitting FillNaFeatureGenerator...\n",
            "\tStage 3 Generators:\n",
            "\t\tFitting IdentityFeatureGenerator...\n",
            "\tStage 4 Generators:\n",
            "\t\tFitting DropUniqueFeatureGenerator...\n",
            "\tTypes of features in original data (raw dtype, special dtypes):\n",
            "\t\t('float', []) : 2 | ['pca_0', 'pca_1']\n",
            "\tTypes of features in processed data (raw dtype, special dtypes):\n",
            "\t\t('float', []) : 2 | ['pca_0', 'pca_1']\n",
            "\t0.1s = Fit runtime\n",
            "\t2 features in original data used to generate 2 features in processed data.\n",
            "\tTrain Data (Processed) Memory Usage: 0.01 MB (0.0% of available memory)\n",
            "Data preprocessing and feature engineering runtime = 0.1s ...\n",
            "AutoGluon will gauge predictive performance using evaluation metric: 'accuracy'\n",
            "\tTo change this, specify the eval_metric argument of fit()\n",
            "AutoGluon will early stop models using evaluation metric: 'accuracy'\n",
            "Fitting model: RandomForestGini ...\n",
            "\t0.9857\t = Validation accuracy score\n",
            "\t0.79s\t = Training runtime\n",
            "\t0.1s\t = Validation runtime\n",
            "Fitting model: RandomForestEntr ...\n",
            "\t0.9857\t = Validation accuracy score\n",
            "\t0.75s\t = Training runtime\n",
            "\t0.1s\t = Validation runtime\n",
            "Fitting model: ExtraTreesGini ...\n",
            "\t0.9857\t = Validation accuracy score\n",
            "\t0.53s\t = Training runtime\n",
            "\t0.1s\t = Validation runtime\n",
            "Fitting model: ExtraTreesEntr ...\n",
            "\t0.9857\t = Validation accuracy score\n",
            "\t0.53s\t = Training runtime\n",
            "\t0.1s\t = Validation runtime\n",
            "Fitting model: KNeighborsUnif ...\n",
            "\t0.9786\t = Validation accuracy score\n",
            "\t0.0s\t = Training runtime\n",
            "\t0.11s\t = Validation runtime\n",
            "Fitting model: KNeighborsDist ...\n",
            "\t0.9786\t = Validation accuracy score\n",
            "\t0.0s\t = Training runtime\n",
            "\t0.11s\t = Validation runtime\n",
            "Fitting model: LightGBM ...\n",
            "\t0.9857\t = Validation accuracy score\n",
            "\t0.22s\t = Training runtime\n",
            "\t0.0s\t = Validation runtime\n",
            "Fitting model: LightGBMXT ...\n",
            "\t0.9857\t = Validation accuracy score\n",
            "\t0.17s\t = Training runtime\n",
            "\t0.0s\t = Validation runtime\n",
            "Fitting model: CatBoost ...\n",
            "\t0.9857\t = Validation accuracy score\n",
            "\t0.23s\t = Training runtime\n",
            "\t0.0s\t = Validation runtime\n",
            "Fitting model: XGBoost ...\n",
            "\t0.9857\t = Validation accuracy score\n",
            "\t0.06s\t = Training runtime\n",
            "\t0.0s\t = Validation runtime\n",
            "Fitting model: NeuralNetMXNet ...\n",
            "\t0.9786\t = Validation accuracy score\n",
            "\t1.72s\t = Training runtime\n",
            "\t0.13s\t = Validation runtime\n",
            "Fitting model: LightGBMCustom ...\n",
            "\t0.9857\t = Validation accuracy score\n",
            "\t0.22s\t = Training runtime\n",
            "\t0.0s\t = Validation runtime\n",
            "Fitting model: WeightedEnsemble_L1 ...\n",
            "\t0.9857\t = Validation accuracy score\n",
            "\t0.37s\t = Training runtime\n",
            "\t0.0s\t = Validation runtime\n",
            "AutoGluon training complete, total runtime = 7.55s ...\n"
          ],
          "name": "stderr"
        },
        {
          "output_type": "stream",
          "text": [
            "CPU times: user 7.53 s, sys: 713 ms, total: 8.25 s\n",
            "Wall time: 7.57 s\n"
          ],
          "name": "stdout"
        }
      ]
    },
    {
      "cell_type": "code",
      "metadata": {
        "id": "hPkYEF2GfjBl"
      },
      "source": [
        "res=clf.leaderboard(test_pca, silent=True)\n"
      ],
      "execution_count": null,
      "outputs": []
    },
    {
      "cell_type": "code",
      "metadata": {
        "colab": {
          "base_uri": "https://localhost:8080/",
          "height": 447
        },
        "id": "zcYKtEorTdra",
        "outputId": "9abbf92c-76bd-4f7c-b80a-dcddfb86278b"
      },
      "source": [
        "res['score_test']=res['score_test'].round(3)*100\n",
        "res.iloc[:,0:2]"
      ],
      "execution_count": null,
      "outputs": [
        {
          "output_type": "execute_result",
          "data": {
            "text/html": [
              "<div>\n",
              "<style scoped>\n",
              "    .dataframe tbody tr th:only-of-type {\n",
              "        vertical-align: middle;\n",
              "    }\n",
              "\n",
              "    .dataframe tbody tr th {\n",
              "        vertical-align: top;\n",
              "    }\n",
              "\n",
              "    .dataframe thead th {\n",
              "        text-align: right;\n",
              "    }\n",
              "</style>\n",
              "<table border=\"1\" class=\"dataframe\">\n",
              "  <thead>\n",
              "    <tr style=\"text-align: right;\">\n",
              "      <th></th>\n",
              "      <th>model</th>\n",
              "      <th>score_test</th>\n",
              "    </tr>\n",
              "  </thead>\n",
              "  <tbody>\n",
              "    <tr>\n",
              "      <th>0</th>\n",
              "      <td>LightGBMCustom</td>\n",
              "      <td>98.1</td>\n",
              "    </tr>\n",
              "    <tr>\n",
              "      <th>1</th>\n",
              "      <td>XGBoost</td>\n",
              "      <td>98.1</td>\n",
              "    </tr>\n",
              "    <tr>\n",
              "      <th>2</th>\n",
              "      <td>LightGBM</td>\n",
              "      <td>98.1</td>\n",
              "    </tr>\n",
              "    <tr>\n",
              "      <th>3</th>\n",
              "      <td>LightGBMXT</td>\n",
              "      <td>98.0</td>\n",
              "    </tr>\n",
              "    <tr>\n",
              "      <th>4</th>\n",
              "      <td>WeightedEnsemble_L1</td>\n",
              "      <td>98.0</td>\n",
              "    </tr>\n",
              "    <tr>\n",
              "      <th>5</th>\n",
              "      <td>ExtraTreesGini</td>\n",
              "      <td>97.4</td>\n",
              "    </tr>\n",
              "    <tr>\n",
              "      <th>6</th>\n",
              "      <td>ExtraTreesEntr</td>\n",
              "      <td>97.4</td>\n",
              "    </tr>\n",
              "    <tr>\n",
              "      <th>7</th>\n",
              "      <td>KNeighborsDist</td>\n",
              "      <td>95.0</td>\n",
              "    </tr>\n",
              "    <tr>\n",
              "      <th>8</th>\n",
              "      <td>CatBoost</td>\n",
              "      <td>94.4</td>\n",
              "    </tr>\n",
              "    <tr>\n",
              "      <th>9</th>\n",
              "      <td>KNeighborsUnif</td>\n",
              "      <td>93.6</td>\n",
              "    </tr>\n",
              "    <tr>\n",
              "      <th>10</th>\n",
              "      <td>NeuralNetMXNet</td>\n",
              "      <td>90.3</td>\n",
              "    </tr>\n",
              "    <tr>\n",
              "      <th>11</th>\n",
              "      <td>RandomForestGini</td>\n",
              "      <td>88.6</td>\n",
              "    </tr>\n",
              "    <tr>\n",
              "      <th>12</th>\n",
              "      <td>RandomForestEntr</td>\n",
              "      <td>88.0</td>\n",
              "    </tr>\n",
              "  </tbody>\n",
              "</table>\n",
              "</div>"
            ],
            "text/plain": [
              "                  model  score_test\n",
              "0        LightGBMCustom        98.1\n",
              "1               XGBoost        98.1\n",
              "2              LightGBM        98.1\n",
              "3            LightGBMXT        98.0\n",
              "4   WeightedEnsemble_L1        98.0\n",
              "5        ExtraTreesGini        97.4\n",
              "6        ExtraTreesEntr        97.4\n",
              "7        KNeighborsDist        95.0\n",
              "8              CatBoost        94.4\n",
              "9        KNeighborsUnif        93.6\n",
              "10       NeuralNetMXNet        90.3\n",
              "11     RandomForestGini        88.6\n",
              "12     RandomForestEntr        88.0"
            ]
          },
          "metadata": {
            "tags": []
          },
          "execution_count": 154
        }
      ]
    },
    {
      "cell_type": "code",
      "metadata": {
        "id": "uoQMqbixZOSQ"
      },
      "source": [
        "test_pred = clf.predict(test_pca,model=res.model[0])"
      ],
      "execution_count": null,
      "outputs": []
    },
    {
      "cell_type": "code",
      "metadata": {
        "colab": {
          "base_uri": "https://localhost:8080/"
        },
        "id": "VVIFCzo6cdY5",
        "outputId": "89b0458a-b96c-417d-dc3c-e1bb9a780252"
      },
      "source": [
        "perf = clf.evaluate_predictions(y_true=test_pca.Label, y_pred=test_pred)\n"
      ],
      "execution_count": null,
      "outputs": [
        {
          "output_type": "stream",
          "text": [
            "Evaluation: accuracy on test data: 0.9814285714285714\n"
          ],
          "name": "stderr"
        }
      ]
    },
    {
      "cell_type": "code",
      "metadata": {
        "colab": {
          "base_uri": "https://localhost:8080/"
        },
        "id": "qGa_7Y_sevcE",
        "outputId": "4c93907c-7a72-4672-c6e4-7e378922ff3b"
      },
      "source": [
        "from sklearn.metrics import classification_report,accuracy_score\n",
        "print(classification_report(test_pca.Label,test_pred))"
      ],
      "execution_count": null,
      "outputs": [
        {
          "output_type": "stream",
          "text": [
            "              precision    recall  f1-score   support\n",
            "\n",
            "       Fresh       1.00      0.97      0.98       385\n",
            "     Spoiled       0.96      1.00      0.98       315\n",
            "\n",
            "    accuracy                           0.98       700\n",
            "   macro avg       0.98      0.98      0.98       700\n",
            "weighted avg       0.98      0.98      0.98       700\n",
            "\n"
          ],
          "name": "stdout"
        }
      ]
    },
    {
      "cell_type": "code",
      "metadata": {
        "id": "yquhRTRCpq3i",
        "colab": {
          "base_uri": "https://localhost:8080/"
        },
        "outputId": "1c96688e-86ee-4bfe-c9ab-b270422ba219"
      },
      "source": [
        " print(accuracy_score(test_pca.Label,test_pred))"
      ],
      "execution_count": null,
      "outputs": [
        {
          "output_type": "stream",
          "text": [
            "0.98\n"
          ],
          "name": "stdout"
        }
      ]
    },
    {
      "cell_type": "code",
      "metadata": {
        "id": "ViNTuVjPn8yH"
      },
      "source": [
        ""
      ],
      "execution_count": null,
      "outputs": []
    }
  ]
}