{
  "nbformat": 4,
  "nbformat_minor": 0,
  "metadata": {
    "colab": {
      "name": "tri_linearPCA.ipynb",
      "provenance": [],
      "collapsed_sections": [],
      "authorship_tag": "ABX9TyN9TlPiUOLD3FrFFd8ervqJ",
      "include_colab_link": true
    },
    "kernelspec": {
      "name": "python3",
      "display_name": "Python 3"
    },
    "language_info": {
      "name": "python"
    }
  },
  "cells": [
    {
      "cell_type": "markdown",
      "metadata": {
        "id": "view-in-github",
        "colab_type": "text"
      },
      "source": [
        "<a href=\"https://colab.research.google.com/github/talhaanwarch/meat_quality_assessment/blob/main/tri_linearPCA.ipynb\" target=\"_parent\"><img src=\"https://colab.research.google.com/assets/colab-badge.svg\" alt=\"Open In Colab\"/></a>"
      ]
    },
    {
      "cell_type": "markdown",
      "metadata": {
        "id": "y-0Fbzpv9_Qt"
      },
      "source": [
        "#install pacakges"
      ]
    },
    {
      "cell_type": "code",
      "metadata": {
        "id": "KDpqCHUMX-32"
      },
      "source": [
        "%%capture\n",
        "!python3 -m pip install -U pip\n",
        "!python3 -m pip install -U setuptools wheel\n",
        "!python3 -m pip install -U \"mxnet<2.0.0\"\n",
        "!python3 -m pip install autogluon"
      ],
      "execution_count": 1,
      "outputs": []
    },
    {
      "cell_type": "markdown",
      "metadata": {
        "id": "f4-5_0A399ZB"
      },
      "source": [
        "#import packages"
      ]
    },
    {
      "cell_type": "code",
      "metadata": {
        "id": "1Djkjzzl98V4"
      },
      "source": [
        "from sklearn.metrics import accuracy_score, log_loss\n",
        "from sklearn.neighbors import KNeighborsClassifier\n",
        "from sklearn.svm import SVC, LinearSVC, NuSVC\n",
        "from sklearn.tree import DecisionTreeClassifier\n",
        "from sklearn.ensemble import RandomForestClassifier, AdaBoostClassifier, GradientBoostingClassifier\n",
        "from sklearn.naive_bayes import GaussianNB\n",
        "from sklearn.discriminant_analysis import LinearDiscriminantAnalysis\n",
        "from sklearn.discriminant_analysis import QuadraticDiscriminantAnalysis\n",
        "from sklearn.linear_model import LogisticRegression\n",
        "from sklearn.metrics import f1_score,accuracy_score\n",
        "from sklearn.model_selection import KFold,LeaveOneOut,StratifiedKFold\n",
        "from sklearn.preprocessing import StandardScaler\n",
        "from sklearn.utils import shuffle\n",
        "import xgboost as xgb\n",
        "import matplotlib.pyplot as plt\n",
        "import numpy as np"
      ],
      "execution_count": 2,
      "outputs": []
    },
    {
      "cell_type": "markdown",
      "metadata": {
        "id": "mwbI2e1k-Bcx"
      },
      "source": [
        "# load data"
      ]
    },
    {
      "cell_type": "code",
      "metadata": {
        "colab": {
          "base_uri": "https://localhost:8080/"
        },
        "id": "68yBLLDMbPJW",
        "outputId": "5f84bb24-126d-41e3-d02e-02f5cec2fd88"
      },
      "source": [
        "import pandas as pd\n",
        "files=pd.ExcelFile(\"https://raw.githubusercontent.com/talhaanwarch/meat_quality_assessment/main/Molen_Dataset.xlsx\")\n",
        "files.sheet_names  # see all sheet names\n",
        "\n"
      ],
      "execution_count": 3,
      "outputs": [
        {
          "output_type": "execute_result",
          "data": {
            "text/plain": [
              "['molen_2class_testing_dwt',\n",
              " 'molen_2class_testing_raw',\n",
              " 'molen_2class_training_dwt',\n",
              " 'molen_2class_training_raw',\n",
              " 'molen_3class_testing_dwt',\n",
              " 'molen_3class_testing_raw',\n",
              " 'molen_3class_training_dwt',\n",
              " 'molen_3class_training_raw',\n",
              " 'molen_4class_testing_dwt',\n",
              " 'molen_4class_testing_raw',\n",
              " 'molen_4class_training_dwt',\n",
              " 'molen_4class_training_raw',\n",
              " 'molen_regression_testing_dwt',\n",
              " 'molen_regression_testing_raw',\n",
              " 'molen_regression_training_dwt',\n",
              " 'molen_regression_training_raw']"
            ]
          },
          "metadata": {
            "tags": []
          },
          "execution_count": 3
        }
      ]
    },
    {
      "cell_type": "code",
      "metadata": {
        "colab": {
          "base_uri": "https://localhost:8080/",
          "height": 199
        },
        "id": "QK19_C79bRSl",
        "outputId": "db7c7772-3c3d-48d8-a368-585851fe92b9"
      },
      "source": [
        "train=files.parse(\"molen_3class_training_raw\")\n",
        "train.head()"
      ],
      "execution_count": 4,
      "outputs": [
        {
          "output_type": "execute_result",
          "data": {
            "text/html": [
              "<div>\n",
              "<style scoped>\n",
              "    .dataframe tbody tr th:only-of-type {\n",
              "        vertical-align: middle;\n",
              "    }\n",
              "\n",
              "    .dataframe tbody tr th {\n",
              "        vertical-align: top;\n",
              "    }\n",
              "\n",
              "    .dataframe thead th {\n",
              "        text-align: right;\n",
              "    }\n",
              "</style>\n",
              "<table border=\"1\" class=\"dataframe\">\n",
              "  <thead>\n",
              "    <tr style=\"text-align: right;\">\n",
              "      <th></th>\n",
              "      <th>Label</th>\n",
              "      <th>S1</th>\n",
              "      <th>S2</th>\n",
              "      <th>S3</th>\n",
              "      <th>S4</th>\n",
              "      <th>S5</th>\n",
              "      <th>S6</th>\n",
              "      <th>S7</th>\n",
              "    </tr>\n",
              "  </thead>\n",
              "  <tbody>\n",
              "    <tr>\n",
              "      <th>0</th>\n",
              "      <td>0</td>\n",
              "      <td>22.86</td>\n",
              "      <td>41.24</td>\n",
              "      <td>29.56</td>\n",
              "      <td>49.38</td>\n",
              "      <td>2.21</td>\n",
              "      <td>14.29</td>\n",
              "      <td>55.1</td>\n",
              "    </tr>\n",
              "    <tr>\n",
              "      <th>1</th>\n",
              "      <td>0</td>\n",
              "      <td>22.75</td>\n",
              "      <td>41.50</td>\n",
              "      <td>29.72</td>\n",
              "      <td>49.38</td>\n",
              "      <td>2.23</td>\n",
              "      <td>14.58</td>\n",
              "      <td>55.1</td>\n",
              "    </tr>\n",
              "    <tr>\n",
              "      <th>2</th>\n",
              "      <td>0</td>\n",
              "      <td>22.75</td>\n",
              "      <td>41.50</td>\n",
              "      <td>29.72</td>\n",
              "      <td>49.38</td>\n",
              "      <td>2.22</td>\n",
              "      <td>14.40</td>\n",
              "      <td>55.1</td>\n",
              "    </tr>\n",
              "    <tr>\n",
              "      <th>3</th>\n",
              "      <td>0</td>\n",
              "      <td>22.86</td>\n",
              "      <td>42.56</td>\n",
              "      <td>29.56</td>\n",
              "      <td>49.38</td>\n",
              "      <td>2.22</td>\n",
              "      <td>14.64</td>\n",
              "      <td>55.4</td>\n",
              "    </tr>\n",
              "    <tr>\n",
              "      <th>4</th>\n",
              "      <td>0</td>\n",
              "      <td>23.07</td>\n",
              "      <td>42.03</td>\n",
              "      <td>29.56</td>\n",
              "      <td>49.38</td>\n",
              "      <td>2.22</td>\n",
              "      <td>14.58</td>\n",
              "      <td>55.4</td>\n",
              "    </tr>\n",
              "  </tbody>\n",
              "</table>\n",
              "</div>"
            ],
            "text/plain": [
              "   Label     S1     S2     S3     S4    S5     S6    S7\n",
              "0      0  22.86  41.24  29.56  49.38  2.21  14.29  55.1\n",
              "1      0  22.75  41.50  29.72  49.38  2.23  14.58  55.1\n",
              "2      0  22.75  41.50  29.72  49.38  2.22  14.40  55.1\n",
              "3      0  22.86  42.56  29.56  49.38  2.22  14.64  55.4\n",
              "4      0  23.07  42.03  29.56  49.38  2.22  14.58  55.4"
            ]
          },
          "metadata": {
            "tags": []
          },
          "execution_count": 4
        }
      ]
    },
    {
      "cell_type": "code",
      "metadata": {
        "colab": {
          "base_uri": "https://localhost:8080/",
          "height": 199
        },
        "id": "-uyKRiBUbRVb",
        "outputId": "8eceba44-0e15-4774-853a-05660e685d81"
      },
      "source": [
        "test=files.parse(\"molen_3class_testing_raw\")\n",
        "test.head()"
      ],
      "execution_count": 5,
      "outputs": [
        {
          "output_type": "execute_result",
          "data": {
            "text/html": [
              "<div>\n",
              "<style scoped>\n",
              "    .dataframe tbody tr th:only-of-type {\n",
              "        vertical-align: middle;\n",
              "    }\n",
              "\n",
              "    .dataframe tbody tr th {\n",
              "        vertical-align: top;\n",
              "    }\n",
              "\n",
              "    .dataframe thead th {\n",
              "        text-align: right;\n",
              "    }\n",
              "</style>\n",
              "<table border=\"1\" class=\"dataframe\">\n",
              "  <thead>\n",
              "    <tr style=\"text-align: right;\">\n",
              "      <th></th>\n",
              "      <th>Label</th>\n",
              "      <th>S1</th>\n",
              "      <th>S2</th>\n",
              "      <th>S3</th>\n",
              "      <th>S4</th>\n",
              "      <th>S5</th>\n",
              "      <th>S6</th>\n",
              "      <th>S7</th>\n",
              "    </tr>\n",
              "  </thead>\n",
              "  <tbody>\n",
              "    <tr>\n",
              "      <th>0</th>\n",
              "      <td>0</td>\n",
              "      <td>21.64</td>\n",
              "      <td>32.32</td>\n",
              "      <td>27.53</td>\n",
              "      <td>40.39</td>\n",
              "      <td>2.36</td>\n",
              "      <td>14.88</td>\n",
              "      <td>56.5</td>\n",
              "    </tr>\n",
              "    <tr>\n",
              "      <th>1</th>\n",
              "      <td>0</td>\n",
              "      <td>21.64</td>\n",
              "      <td>32.49</td>\n",
              "      <td>27.53</td>\n",
              "      <td>40.67</td>\n",
              "      <td>2.36</td>\n",
              "      <td>14.82</td>\n",
              "      <td>56.5</td>\n",
              "    </tr>\n",
              "    <tr>\n",
              "      <th>2</th>\n",
              "      <td>0</td>\n",
              "      <td>21.64</td>\n",
              "      <td>32.49</td>\n",
              "      <td>27.67</td>\n",
              "      <td>40.96</td>\n",
              "      <td>2.37</td>\n",
              "      <td>14.88</td>\n",
              "      <td>56.5</td>\n",
              "    </tr>\n",
              "    <tr>\n",
              "      <th>3</th>\n",
              "      <td>0</td>\n",
              "      <td>21.74</td>\n",
              "      <td>32.67</td>\n",
              "      <td>27.81</td>\n",
              "      <td>41.25</td>\n",
              "      <td>2.37</td>\n",
              "      <td>14.94</td>\n",
              "      <td>56.5</td>\n",
              "    </tr>\n",
              "    <tr>\n",
              "      <th>4</th>\n",
              "      <td>0</td>\n",
              "      <td>21.74</td>\n",
              "      <td>32.85</td>\n",
              "      <td>27.81</td>\n",
              "      <td>41.25</td>\n",
              "      <td>2.36</td>\n",
              "      <td>14.94</td>\n",
              "      <td>56.5</td>\n",
              "    </tr>\n",
              "  </tbody>\n",
              "</table>\n",
              "</div>"
            ],
            "text/plain": [
              "   Label     S1     S2     S3     S4    S5     S6    S7\n",
              "0      0  21.64  32.32  27.53  40.39  2.36  14.88  56.5\n",
              "1      0  21.64  32.49  27.53  40.67  2.36  14.82  56.5\n",
              "2      0  21.64  32.49  27.67  40.96  2.37  14.88  56.5\n",
              "3      0  21.74  32.67  27.81  41.25  2.37  14.94  56.5\n",
              "4      0  21.74  32.85  27.81  41.25  2.36  14.94  56.5"
            ]
          },
          "metadata": {
            "tags": []
          },
          "execution_count": 5
        }
      ]
    },
    {
      "cell_type": "code",
      "metadata": {
        "colab": {
          "base_uri": "https://localhost:8080/"
        },
        "id": "pXd5Ak8d0le1",
        "outputId": "b8c09c71-bf7f-49fe-8090-16d5c82a5020"
      },
      "source": [
        "train.shape,test.shape"
      ],
      "execution_count": 6,
      "outputs": [
        {
          "output_type": "execute_result",
          "data": {
            "text/plain": [
              "((700, 8), (700, 8))"
            ]
          },
          "metadata": {
            "tags": []
          },
          "execution_count": 6
        }
      ]
    },
    {
      "cell_type": "code",
      "metadata": {
        "colab": {
          "base_uri": "https://localhost:8080/"
        },
        "id": "55FGY-zr5eLD",
        "outputId": "d5f80719-7ae0-4c8b-96bd-f193aaf0e460"
      },
      "source": [
        "train.Label.value_counts()"
      ],
      "execution_count": 7,
      "outputs": [
        {
          "output_type": "execute_result",
          "data": {
            "text/plain": [
              "2    406\n",
              "1    152\n",
              "0    142\n",
              "Name: Label, dtype: int64"
            ]
          },
          "metadata": {
            "tags": []
          },
          "execution_count": 7
        }
      ]
    },
    {
      "cell_type": "code",
      "metadata": {
        "colab": {
          "base_uri": "https://localhost:8080/",
          "height": 351
        },
        "id": "ufeoxmo64v5D",
        "outputId": "aa61e2bb-31d4-42e0-bce4-dac082481bff"
      },
      "source": [
        "import matplotlib.pyplot as plt\n",
        "\n",
        "[s1,s2,s3,s4,s5,s6,s7]=plt.plot(train.iloc[:,1::])\n",
        "plt.axvline(142,ls=':')\n",
        "plt.text(50,110,\"Fresh\")\n",
        "plt.axvline(142+152,ls=':')\n",
        "plt.text(150,110,\"Semi-Fresh\")\n",
        "#plt.axvline(142+152+406)\n",
        "plt.text(400,110,\"Spoiled\")\n",
        "plt.legend([s1,s2,s3,s4,s5,s6,s7],['MQ135','MQ136','MQ2','MQ4','MQ6','MQ9','DHT22'],\n",
        "           loc=('center right'),bbox_to_anchor=(1, 0.35))\n",
        "plt.xlabel('Time')\n",
        "plt.ylabel('Sensor readings')\n",
        "plt.savefig('raw_data.eps')"
      ],
      "execution_count": 8,
      "outputs": [
        {
          "output_type": "stream",
          "text": [
            "The PostScript backend does not support transparency; partially transparent artists will be rendered opaque.\n",
            "The PostScript backend does not support transparency; partially transparent artists will be rendered opaque.\n"
          ],
          "name": "stderr"
        },
        {
          "output_type": "display_data",
          "data": {
            "image/png": "[encoded data removed]",
            "text/plain": [
              "<Figure size 432x288 with 1 Axes>"
            ]
          },
          "metadata": {
            "tags": [],
            "needs_background": "light"
          }
        }
      ]
    },
    {
      "cell_type": "code",
      "metadata": {
        "id": "92gEZJ25bUuH"
      },
      "source": [
        "train_feat=train.iloc[:,1::]\n",
        "train_label=train.iloc[:,0]"
      ],
      "execution_count": 9,
      "outputs": []
    },
    {
      "cell_type": "code",
      "metadata": {
        "id": "9O_PaWoybVI1"
      },
      "source": [
        "test_feat=test.iloc[:,1::]\n",
        "test_label=test.iloc[:,0]"
      ],
      "execution_count": 10,
      "outputs": []
    },
    {
      "cell_type": "markdown",
      "metadata": {
        "id": "03cwKY-t-ETu"
      },
      "source": [
        "# baseline models"
      ]
    },
    {
      "cell_type": "code",
      "metadata": {
        "id": "nsddnQX36hqe"
      },
      "source": [
        "from sklearn.preprocessing import StandardScaler,MinMaxScaler\n",
        "scaler=StandardScaler()\n",
        "train_scaled=scaler.fit_transform(train_feat)\n",
        "test_scaled=scaler.transform(test_feat)"
      ],
      "execution_count": 11,
      "outputs": []
    },
    {
      "cell_type": "code",
      "metadata": {
        "id": "TS_cPLqo-GNv"
      },
      "source": [
        "classifiers = [\n",
        "    LogisticRegression(),\n",
        "    KNeighborsClassifier(),\n",
        "    SVC(),\n",
        "    DecisionTreeClassifier(),\n",
        "    RandomForestClassifier(),\n",
        "    ]"
      ],
      "execution_count": 12,
      "outputs": []
    },
    {
      "cell_type": "code",
      "metadata": {
        "id": "sW4RrRLA-QHe"
      },
      "source": [
        "f1,acc=[],[]\n",
        "for clfs in classifiers:\n",
        "  clfs.fit(train_scaled,train_label)\n",
        "  pred=clfs.predict(test_scaled)\n",
        "  f1.append(f1_score(pred,test_label,average='macro'))\n",
        "  acc.append(accuracy_score(pred,test_label))"
      ],
      "execution_count": 13,
      "outputs": []
    },
    {
      "cell_type": "code",
      "metadata": {
        "colab": {
          "base_uri": "https://localhost:8080/",
          "height": 300
        },
        "id": "dtg2DQ67-Pqa",
        "outputId": "7182ad7b-8b25-477f-ef0f-52fa68e81d58"
      },
      "source": [
        "classifier=['LR','KNN','SVM','DT','RF']\n",
        "y_pos = np.arange(len(classifier))\n",
        "acc=np.array(acc)\n",
        "f1=np.array(f1)\n",
        "w=0.4\n",
        "\n",
        "plt.bar(y_pos,acc,align='center',width=w,label='Accuracy')\n",
        "plt.bar(y_pos+w,f1,align='center',width=w,label='F1-score')\n",
        "for index, value in enumerate(acc):\n",
        "    plt.text(index-0.1,value-0.2, str(np.round(value,2)),rotation=90,color='white',fontsize=11)\n",
        "\n",
        "for index, value in enumerate(f1):\n",
        "    plt.text(index+w-0.1,value-0.1, str(np.round(value,2)),rotation=90,color='white',fontsize=11)\n",
        "\n",
        "\n",
        "plt.xticks(y_pos, classifier,fontsize=11)\n",
        "plt.yticks(fontsize=11)"
      ],
      "execution_count": 14,
      "outputs": [
        {
          "output_type": "execute_result",
          "data": {
            "text/plain": [
              "(array([0. , 0.1, 0.2, 0.3, 0.4, 0.5, 0.6, 0.7, 0.8, 0.9]),\n",
              " <a list of 10 Text major ticklabel objects>)"
            ]
          },
          "metadata": {
            "tags": []
          },
          "execution_count": 14
        },
        {
          "output_type": "display_data",
          "data": {
            "image/png": "[encoded data removed]",
            "text/plain": [
              "<Figure size 432x288 with 1 Axes>"
            ]
          },
          "metadata": {
            "tags": [],
            "needs_background": "light"
          }
        }
      ]
    },
    {
      "cell_type": "code",
      "metadata": {
        "colab": {
          "base_uri": "https://localhost:8080/",
          "height": 282
        },
        "id": "fuj-YP8dyYgq",
        "outputId": "4934195f-b57e-4a39-d42a-ff122405b217"
      },
      "source": [
        "import matplotlib.pyplot as plt\n",
        "from sklearn.decomposition import PCA\n",
        "import pandas as pd\n",
        "import numpy as np\n",
        "\n",
        "pca = PCA().fit(train_feat)\n",
        "plt.plot(np.cumsum(pca.explained_variance_ratio_*100),color='k')\n",
        "plt.xlabel('Number of Components',fontsize=12)\n",
        "plt.ylabel('Variance (%)',fontsize=12) #for each component\n",
        "#plt.title('Scree Plot',fontsize=12)\n",
        "plt.grid()\n",
        "plt.savefig('pca_scree.eps')\n",
        "plt.show()"
      ],
      "execution_count": 15,
      "outputs": [
        {
          "output_type": "display_data",
          "data": {
            "image/png": "[encoded data removed]",
            "text/plain": [
              "<Figure size 432x288 with 1 Axes>"
            ]
          },
          "metadata": {
            "tags": [],
            "needs_background": "light"
          }
        }
      ]
    },
    {
      "cell_type": "markdown",
      "metadata": {
        "id": "9shAMFQaH4RR"
      },
      "source": [
        "# baseline pca"
      ]
    },
    {
      "cell_type": "code",
      "metadata": {
        "id": "EffFT9WhylSm"
      },
      "source": [
        "from sklearn.decomposition import KernelPCA\n",
        "#pca=KernelPCA(n_components=2, kernel='poly')\n",
        "pca=PCA(2)"
      ],
      "execution_count": 16,
      "outputs": []
    },
    {
      "cell_type": "code",
      "metadata": {
        "colab": {
          "base_uri": "https://localhost:8080/"
        },
        "id": "gyYT-AQHKTBn",
        "outputId": "203da695-0de9-404b-8e52-7082b254178a"
      },
      "source": [
        "train.Label.value_counts()"
      ],
      "execution_count": 17,
      "outputs": [
        {
          "output_type": "execute_result",
          "data": {
            "text/plain": [
              "2    406\n",
              "1    152\n",
              "0    142\n",
              "Name: Label, dtype: int64"
            ]
          },
          "metadata": {
            "tags": []
          },
          "execution_count": 17
        }
      ]
    },
    {
      "cell_type": "code",
      "metadata": {
        "id": "aF9MnmzoH8iC"
      },
      "source": [
        "train_scaled_pca=pca.fit_transform(train_scaled)\n",
        "test_scaled_pca=pca.transform(test_scaled)"
      ],
      "execution_count": 18,
      "outputs": []
    },
    {
      "cell_type": "code",
      "metadata": {
        "id": "8mrjVuk4IMcC"
      },
      "source": [
        "f1,acc=[],[]\n",
        "for clfs in classifiers:\n",
        "  clfs.fit(train_scaled_pca,train_label)\n",
        "  pred=clfs.predict(test_scaled_pca)\n",
        "  f1.append(f1_score(pred,test_label,average='macro'))\n",
        "  acc.append(accuracy_score(pred,test_label))"
      ],
      "execution_count": 19,
      "outputs": []
    },
    {
      "cell_type": "code",
      "metadata": {
        "colab": {
          "base_uri": "https://localhost:8080/",
          "height": 333
        },
        "id": "rzpRZkPyIR5n",
        "outputId": "be2da962-da88-4bba-e409-00e819a8c198"
      },
      "source": [
        "classifier=['LR','KNN','SVM','DT','RF']\n",
        "y_pos = np.arange(len(classifier))\n",
        "acc=np.array(acc)\n",
        "f1=np.array(f1)\n",
        "w=0.4\n",
        "\n",
        "plt.bar(y_pos,acc,align='center',width=w,label='Accuracy')\n",
        "plt.bar(y_pos+w,f1,align='center',width=w,label='F1-score')\n",
        "for index, value in enumerate(acc):\n",
        "    plt.text(index-0.1,value-0.2, str(np.round(value,2)),rotation=90,color='white',fontsize=11)\n",
        "\n",
        "for index, value in enumerate(f1):\n",
        "    plt.text(index+w-0.1,value-0.1, str(np.round(value,2)),rotation=90,color='white',fontsize=11)\n",
        "\n",
        "\n",
        "plt.xticks(y_pos, classifier,fontsize=11)\n",
        "plt.yticks(fontsize=11)\n",
        "plt.ylabel('Score',fontsize=12)\n",
        "plt.xlabel('Classifiers',fontsize=12)\n",
        "plt.title('Baseline classifiers performance',fontsize=12)\n",
        "plt.legend()\n",
        "plt.savefig('Baseline.eps',dip=300)"
      ],
      "execution_count": 20,
      "outputs": [
        {
          "output_type": "stream",
          "text": [
            "The PostScript backend does not support transparency; partially transparent artists will be rendered opaque.\n",
            "The PostScript backend does not support transparency; partially transparent artists will be rendered opaque.\n"
          ],
          "name": "stderr"
        },
        {
          "output_type": "display_data",
          "data": {
            "image/png": "[encoded data removed]",
            "text/plain": [
              "<Figure size 432x288 with 1 Axes>"
            ]
          },
          "metadata": {
            "tags": [],
            "needs_background": "light"
          }
        }
      ]
    },
    {
      "cell_type": "markdown",
      "metadata": {
        "id": "SlcaWpLxIYZy"
      },
      "source": [
        "# auto ML"
      ]
    },
    {
      "cell_type": "code",
      "metadata": {
        "id": "xgZYkIWvH8pk"
      },
      "source": [
        "train_feat_pca=pca.fit_transform(train_feat)\n",
        "test_feat_pca=pca.transform(test_feat)"
      ],
      "execution_count": 21,
      "outputs": []
    },
    {
      "cell_type": "code",
      "metadata": {
        "colab": {
          "base_uri": "https://localhost:8080/"
        },
        "id": "cRVop1jPKW25",
        "outputId": "193d5dd1-0162-41e2-a8ca-220eba53e307"
      },
      "source": [
        "train.Label.value_counts()"
      ],
      "execution_count": 22,
      "outputs": [
        {
          "output_type": "execute_result",
          "data": {
            "text/plain": [
              "2    406\n",
              "1    152\n",
              "0    142\n",
              "Name: Label, dtype: int64"
            ]
          },
          "metadata": {
            "tags": []
          },
          "execution_count": 22
        }
      ]
    },
    {
      "cell_type": "code",
      "metadata": {
        "colab": {
          "base_uri": "https://localhost:8080/",
          "height": 199
        },
        "id": "aUvBe8bs0Z9f",
        "outputId": "880c209e-4e59-4e0b-b454-70245b167e4a"
      },
      "source": [
        "train_pca=pd.concat([pd.DataFrame(train_feat_pca),train_label],axis=1)\n",
        "train_pca.columns=['pca_{}'.format(i) for i in range(train_feat_pca.shape[1])]+['Label']\n",
        "train_pca.Label=train_pca.Label.map({0:'Fresh',1:\"Semi-Fresh\",2:\"Spoiled\"})\n",
        "train_pca.head()"
      ],
      "execution_count": 23,
      "outputs": [
        {
          "output_type": "execute_result",
          "data": {
            "text/html": [
              "<div>\n",
              "<style scoped>\n",
              "    .dataframe tbody tr th:only-of-type {\n",
              "        vertical-align: middle;\n",
              "    }\n",
              "\n",
              "    .dataframe tbody tr th {\n",
              "        vertical-align: top;\n",
              "    }\n",
              "\n",
              "    .dataframe thead th {\n",
              "        text-align: right;\n",
              "    }\n",
              "</style>\n",
              "<table border=\"1\" class=\"dataframe\">\n",
              "  <thead>\n",
              "    <tr style=\"text-align: right;\">\n",
              "      <th></th>\n",
              "      <th>pca_0</th>\n",
              "      <th>pca_1</th>\n",
              "      <th>Label</th>\n",
              "    </tr>\n",
              "  </thead>\n",
              "  <tbody>\n",
              "    <tr>\n",
              "      <th>0</th>\n",
              "      <td>-55.918023</td>\n",
              "      <td>22.770695</td>\n",
              "      <td>Fresh</td>\n",
              "    </tr>\n",
              "    <tr>\n",
              "      <th>1</th>\n",
              "      <td>-56.055396</td>\n",
              "      <td>22.904680</td>\n",
              "      <td>Fresh</td>\n",
              "    </tr>\n",
              "    <tr>\n",
              "      <th>2</th>\n",
              "      <td>-56.036812</td>\n",
              "      <td>22.920176</td>\n",
              "      <td>Fresh</td>\n",
              "    </tr>\n",
              "    <tr>\n",
              "      <th>3</th>\n",
              "      <td>-56.368246</td>\n",
              "      <td>23.145386</td>\n",
              "      <td>Fresh</td>\n",
              "    </tr>\n",
              "    <tr>\n",
              "      <th>4</th>\n",
              "      <td>-56.219830</td>\n",
              "      <td>22.937029</td>\n",
              "      <td>Fresh</td>\n",
              "    </tr>\n",
              "  </tbody>\n",
              "</table>\n",
              "</div>"
            ],
            "text/plain": [
              "       pca_0      pca_1  Label\n",
              "0 -55.918023  22.770695  Fresh\n",
              "1 -56.055396  22.904680  Fresh\n",
              "2 -56.036812  22.920176  Fresh\n",
              "3 -56.368246  23.145386  Fresh\n",
              "4 -56.219830  22.937029  Fresh"
            ]
          },
          "metadata": {
            "tags": []
          },
          "execution_count": 23
        }
      ]
    },
    {
      "cell_type": "code",
      "metadata": {
        "colab": {
          "base_uri": "https://localhost:8080/"
        },
        "id": "JAjpP70YKYuf",
        "outputId": "b86ecd09-7914-488c-b071-802ddc91792e"
      },
      "source": [
        "train.Label.value_counts()"
      ],
      "execution_count": 24,
      "outputs": [
        {
          "output_type": "execute_result",
          "data": {
            "text/plain": [
              "2    406\n",
              "1    152\n",
              "0    142\n",
              "Name: Label, dtype: int64"
            ]
          },
          "metadata": {
            "tags": []
          },
          "execution_count": 24
        }
      ]
    },
    {
      "cell_type": "code",
      "metadata": {
        "colab": {
          "base_uri": "https://localhost:8080/",
          "height": 199
        },
        "id": "-XOkEl0tP6S4",
        "outputId": "b515922d-f66c-4bcf-d4dd-df9083a9ceaf"
      },
      "source": [
        "train_pca.head()"
      ],
      "execution_count": 25,
      "outputs": [
        {
          "output_type": "execute_result",
          "data": {
            "text/html": [
              "<div>\n",
              "<style scoped>\n",
              "    .dataframe tbody tr th:only-of-type {\n",
              "        vertical-align: middle;\n",
              "    }\n",
              "\n",
              "    .dataframe tbody tr th {\n",
              "        vertical-align: top;\n",
              "    }\n",
              "\n",
              "    .dataframe thead th {\n",
              "        text-align: right;\n",
              "    }\n",
              "</style>\n",
              "<table border=\"1\" class=\"dataframe\">\n",
              "  <thead>\n",
              "    <tr style=\"text-align: right;\">\n",
              "      <th></th>\n",
              "      <th>pca_0</th>\n",
              "      <th>pca_1</th>\n",
              "      <th>Label</th>\n",
              "    </tr>\n",
              "  </thead>\n",
              "  <tbody>\n",
              "    <tr>\n",
              "      <th>0</th>\n",
              "      <td>-55.918023</td>\n",
              "      <td>22.770695</td>\n",
              "      <td>Fresh</td>\n",
              "    </tr>\n",
              "    <tr>\n",
              "      <th>1</th>\n",
              "      <td>-56.055396</td>\n",
              "      <td>22.904680</td>\n",
              "      <td>Fresh</td>\n",
              "    </tr>\n",
              "    <tr>\n",
              "      <th>2</th>\n",
              "      <td>-56.036812</td>\n",
              "      <td>22.920176</td>\n",
              "      <td>Fresh</td>\n",
              "    </tr>\n",
              "    <tr>\n",
              "      <th>3</th>\n",
              "      <td>-56.368246</td>\n",
              "      <td>23.145386</td>\n",
              "      <td>Fresh</td>\n",
              "    </tr>\n",
              "    <tr>\n",
              "      <th>4</th>\n",
              "      <td>-56.219830</td>\n",
              "      <td>22.937029</td>\n",
              "      <td>Fresh</td>\n",
              "    </tr>\n",
              "  </tbody>\n",
              "</table>\n",
              "</div>"
            ],
            "text/plain": [
              "       pca_0      pca_1  Label\n",
              "0 -55.918023  22.770695  Fresh\n",
              "1 -56.055396  22.904680  Fresh\n",
              "2 -56.036812  22.920176  Fresh\n",
              "3 -56.368246  23.145386  Fresh\n",
              "4 -56.219830  22.937029  Fresh"
            ]
          },
          "metadata": {
            "tags": []
          },
          "execution_count": 25
        }
      ]
    },
    {
      "cell_type": "code",
      "metadata": {
        "colab": {
          "base_uri": "https://localhost:8080/",
          "height": 314
        },
        "id": "JSRf6A9KPiBQ",
        "outputId": "1e1fc29d-1f34-4154-ff22-0df11aa3a951"
      },
      "source": [
        "import matplotlib.pyplot as plt\n",
        "\n",
        "[pca1,pca2]=plt.plot(train_pca.iloc[:,0:-1])\n",
        "plt.axvline(142,ls=':')\n",
        "plt.text(50,45,\"Fresh\")\n",
        "plt.axvline(142+152,ls=':')\n",
        "plt.text(150,45,\"Semi-Fresh\")\n",
        "#plt.axvline(142+152+406)\n",
        "plt.text(400,45,\"Spoiled\")\n",
        "plt.legend([pca1,pca2],['pca1','pca2'],\n",
        "           loc=('center right'),bbox_to_anchor=(1, 0.35))\n",
        "plt.xlabel('Time')\n",
        "plt.ylabel('Principle components')\n",
        "plt.savefig('pca_data_poly.eps')"
      ],
      "execution_count": 26,
      "outputs": [
        {
          "output_type": "stream",
          "text": [
            "The PostScript backend does not support transparency; partially transparent artists will be rendered opaque.\n",
            "The PostScript backend does not support transparency; partially transparent artists will be rendered opaque.\n"
          ],
          "name": "stderr"
        },
        {
          "output_type": "display_data",
          "data": {
            "image/png": "[encoded data removed]",
            "text/plain": [
              "<Figure size 432x288 with 1 Axes>"
            ]
          },
          "metadata": {
            "tags": [],
            "needs_background": "light"
          }
        }
      ]
    },
    {
      "cell_type": "code",
      "metadata": {
        "colab": {
          "base_uri": "https://localhost:8080/",
          "height": 199
        },
        "id": "s9FnLNYg06Y5",
        "outputId": "126dd0cb-e4c4-40d5-9a61-3d2fc6c708a8"
      },
      "source": [
        "test_pca=pd.concat([pd.DataFrame(test_feat_pca),test_label],axis=1)\n",
        "test_pca.columns=['pca_{}'.format(i) for i in range(test_feat_pca.shape[1])]+['Label']\n",
        "test_pca.Label=test_pca.Label.map({0:'Fresh',1:\"Semi-Fresh\",2:\"Spoiled\"})\n",
        "test_pca.head()"
      ],
      "execution_count": 27,
      "outputs": [
        {
          "output_type": "execute_result",
          "data": {
            "text/html": [
              "<div>\n",
              "<style scoped>\n",
              "    .dataframe tbody tr th:only-of-type {\n",
              "        vertical-align: middle;\n",
              "    }\n",
              "\n",
              "    .dataframe tbody tr th {\n",
              "        vertical-align: top;\n",
              "    }\n",
              "\n",
              "    .dataframe thead th {\n",
              "        text-align: right;\n",
              "    }\n",
              "</style>\n",
              "<table border=\"1\" class=\"dataframe\">\n",
              "  <thead>\n",
              "    <tr style=\"text-align: right;\">\n",
              "      <th></th>\n",
              "      <th>pca_0</th>\n",
              "      <th>pca_1</th>\n",
              "      <th>Label</th>\n",
              "    </tr>\n",
              "  </thead>\n",
              "  <tbody>\n",
              "    <tr>\n",
              "      <th>0</th>\n",
              "      <td>-47.623721</td>\n",
              "      <td>13.948260</td>\n",
              "      <td>Fresh</td>\n",
              "    </tr>\n",
              "    <tr>\n",
              "      <th>1</th>\n",
              "      <td>-47.798340</td>\n",
              "      <td>14.171062</td>\n",
              "      <td>Fresh</td>\n",
              "    </tr>\n",
              "    <tr>\n",
              "      <th>2</th>\n",
              "      <td>-47.964120</td>\n",
              "      <td>14.374942</td>\n",
              "      <td>Fresh</td>\n",
              "    </tr>\n",
              "    <tr>\n",
              "      <th>3</th>\n",
              "      <td>-48.225492</td>\n",
              "      <td>14.621806</td>\n",
              "      <td>Fresh</td>\n",
              "    </tr>\n",
              "    <tr>\n",
              "      <th>4</th>\n",
              "      <td>-48.297071</td>\n",
              "      <td>14.678736</td>\n",
              "      <td>Fresh</td>\n",
              "    </tr>\n",
              "  </tbody>\n",
              "</table>\n",
              "</div>"
            ],
            "text/plain": [
              "       pca_0      pca_1  Label\n",
              "0 -47.623721  13.948260  Fresh\n",
              "1 -47.798340  14.171062  Fresh\n",
              "2 -47.964120  14.374942  Fresh\n",
              "3 -48.225492  14.621806  Fresh\n",
              "4 -48.297071  14.678736  Fresh"
            ]
          },
          "metadata": {
            "tags": []
          },
          "execution_count": 27
        }
      ]
    },
    {
      "cell_type": "code",
      "metadata": {
        "colab": {
          "base_uri": "https://localhost:8080/"
        },
        "id": "N1vWskt9vxPm",
        "outputId": "f0d038c4-fcc2-41e9-db2e-de41fc7401e4"
      },
      "source": [
        "train_pca.Label.value_counts()"
      ],
      "execution_count": 28,
      "outputs": [
        {
          "output_type": "execute_result",
          "data": {
            "text/plain": [
              "Spoiled       406\n",
              "Semi-Fresh    152\n",
              "Fresh         142\n",
              "Name: Label, dtype: int64"
            ]
          },
          "metadata": {
            "tags": []
          },
          "execution_count": 28
        }
      ]
    },
    {
      "cell_type": "code",
      "metadata": {
        "id": "eWAkr4ulc8C8"
      },
      "source": [
        ""
      ],
      "execution_count": 28,
      "outputs": []
    },
    {
      "cell_type": "code",
      "metadata": {
        "colab": {
          "base_uri": "https://localhost:8080/",
          "height": 321
        },
        "id": "hd4zhE7sBc77",
        "outputId": "01b198fc-09b8-4593-9d1c-3d5431c0f407"
      },
      "source": [
        "import matplotlib.pyplot as plt\n",
        "\n",
        "fig = plt.figure()\n",
        "ax = fig.add_subplot(1,1,1) \n",
        "ax.set_xlabel('Principal Component 1', fontsize = 12)\n",
        "ax.set_ylabel('Principal Component 2', fontsize = 12)\n",
        "#ax.set_title('2 component PCA', fontsize = 20)\n",
        "targets = list(train_pca.Label.unique())\n",
        "colors = ['r', 'g','b']\n",
        "for target, color in zip(targets,colors):\n",
        "    indicesToKeep = train_pca['Label'] == target\n",
        "    ax.scatter(train_pca.loc[indicesToKeep, 'pca_0']\n",
        "               , train_pca.loc[indicesToKeep, 'pca_1']\n",
        "               , c = color\n",
        "               , s = 20)\n",
        "ax.legend(targets,fontsize = 12,loc='upper center')\n",
        "ax.grid()\n",
        "plt.savefig('pca_plot.eps')\n"
      ],
      "execution_count": 29,
      "outputs": [
        {
          "output_type": "stream",
          "text": [
            "The PostScript backend does not support transparency; partially transparent artists will be rendered opaque.\n",
            "The PostScript backend does not support transparency; partially transparent artists will be rendered opaque.\n"
          ],
          "name": "stderr"
        },
        {
          "output_type": "display_data",
          "data": {
            "image/png": "[encoded data removed]",
            "text/plain": [
              "<Figure size 432x288 with 1 Axes>"
            ]
          },
          "metadata": {
            "tags": [],
            "needs_background": "light"
          }
        }
      ]
    },
    {
      "cell_type": "code",
      "metadata": {
        "colab": {
          "base_uri": "https://localhost:8080/"
        },
        "id": "KyvibWvnYECS",
        "outputId": "3e96963d-5266-40e6-f740-9ba748ef99af"
      },
      "source": [
        "%%time\n",
        "from autogluon.tabular import  TabularPredictor\n",
        "clf=TabularPredictor(label='Label').fit(train_pca)"
      ],
      "execution_count": 30,
      "outputs": [
        {
          "output_type": "stream",
          "text": [
            "No path specified. Models will be saved in: \"AutogluonModels/ag-20210531_163506/\"\n",
            "Beginning AutoGluon training ...\n",
            "AutoGluon will save models to \"AutogluonModels/ag-20210531_163506/\"\n",
            "AutoGluon Version:  0.2.0\n",
            "Train Data Rows:    700\n",
            "Train Data Columns: 2\n",
            "Preprocessing data ...\n",
            "AutoGluon infers your prediction problem is: 'multiclass' (because dtype of label-column == object).\n",
            "\t3 unique label values:  ['Fresh', 'Semi-Fresh', 'Spoiled']\n",
            "\tIf 'multiclass' is not the correct problem_type, please manually specify the problem_type argument in fit() (You may specify problem_type as one of: ['binary', 'multiclass', 'regression'])\n",
            "NumExpr defaulting to 2 threads.\n",
            "Train Data Class Count: 3\n",
            "Using Feature Generators to preprocess the data ...\n",
            "Fitting AutoMLPipelineFeatureGenerator...\n",
            "\tAvailable Memory:                    12651.13 MB\n",
            "\tTrain Data (Original)  Memory Usage: 0.01 MB (0.0% of available memory)\n",
            "\tInferring data type of each feature based on column values. Set feature_metadata_in to manually specify special dtypes of the features.\n",
            "\tStage 1 Generators:\n",
            "\t\tFitting AsTypeFeatureGenerator...\n",
            "\tStage 2 Generators:\n",
            "\t\tFitting FillNaFeatureGenerator...\n",
            "\tStage 3 Generators:\n",
            "\t\tFitting IdentityFeatureGenerator...\n",
            "\tStage 4 Generators:\n",
            "\t\tFitting DropUniqueFeatureGenerator...\n",
            "\tTypes of features in original data (raw dtype, special dtypes):\n",
            "\t\t('float', []) : 2 | ['pca_0', 'pca_1']\n",
            "\tTypes of features in processed data (raw dtype, special dtypes):\n",
            "\t\t('float', []) : 2 | ['pca_0', 'pca_1']\n",
            "\t0.1s = Fit runtime\n",
            "\t2 features in original data used to generate 2 features in processed data.\n",
            "\tTrain Data (Processed) Memory Usage: 0.01 MB (0.0% of available memory)\n",
            "Data preprocessing and feature engineering runtime = 0.13s ...\n",
            "AutoGluon will gauge predictive performance using evaluation metric: 'accuracy'\n",
            "\tTo change this, specify the eval_metric argument of fit()\n",
            "Automatically generating train/validation split with holdout_frac=0.2, Train Rows: 560, Val Rows: 140\n",
            "Fitting model: KNeighborsUnif ...\n",
            "\t0.9714\t = Validation accuracy score\n",
            "\t0.01s\t = Training runtime\n",
            "\t0.11s\t = Validation runtime\n",
            "Fitting model: KNeighborsDist ...\n",
            "\t0.9714\t = Validation accuracy score\n",
            "\t0.01s\t = Training runtime\n",
            "\t0.11s\t = Validation runtime\n",
            "Fitting model: NeuralNetFastAI ...\n",
            "No improvement since epoch 8: early stopping\n",
            "\t0.9714\t = Validation accuracy score\n",
            "\t1.82s\t = Training runtime\n",
            "\t0.01s\t = Validation runtime\n",
            "Fitting model: LightGBMXT ...\n",
            "/usr/local/lib/python3.7/dist-packages/fsspec/__init__.py:47: DeprecationWarning: SelectableGroups dict interface is deprecated. Use select.\n",
            "  for spec in entry_points.get(\"fsspec.specs\", []):\n",
            "\t0.9714\t = Validation accuracy score\n",
            "\t1.44s\t = Training runtime\n",
            "\t0.0s\t = Validation runtime\n",
            "Fitting model: LightGBM ...\n",
            "\t0.9786\t = Validation accuracy score\n",
            "\t0.26s\t = Training runtime\n",
            "\t0.0s\t = Validation runtime\n",
            "Fitting model: RandomForestGini ...\n",
            "\t0.9786\t = Validation accuracy score\n",
            "\t0.85s\t = Training runtime\n",
            "\t0.1s\t = Validation runtime\n",
            "Fitting model: RandomForestEntr ...\n",
            "\t0.9786\t = Validation accuracy score\n",
            "\t0.86s\t = Training runtime\n",
            "\t0.1s\t = Validation runtime\n",
            "Fitting model: CatBoost ...\n",
            "\t0.9714\t = Validation accuracy score\n",
            "\t0.39s\t = Training runtime\n",
            "\t0.0s\t = Validation runtime\n",
            "Fitting model: ExtraTreesGini ...\n",
            "\t0.9786\t = Validation accuracy score\n",
            "\t0.86s\t = Training runtime\n",
            "\t0.1s\t = Validation runtime\n",
            "Fitting model: ExtraTreesEntr ...\n",
            "\t0.9786\t = Validation accuracy score\n",
            "\t0.76s\t = Training runtime\n",
            "\t0.1s\t = Validation runtime\n",
            "Fitting model: XGBoost ...\n",
            "\t0.9786\t = Validation accuracy score\n",
            "\t0.13s\t = Training runtime\n",
            "\t0.0s\t = Validation runtime\n",
            "Fitting model: NeuralNetMXNet ...\n",
            "\t0.7857\t = Validation accuracy score\n",
            "\t3.02s\t = Training runtime\n",
            "\t0.15s\t = Validation runtime\n",
            "Fitting model: LightGBMLarge ...\n",
            "\t0.9786\t = Validation accuracy score\n",
            "\t0.3s\t = Training runtime\n",
            "\t0.0s\t = Validation runtime\n",
            "Fitting model: WeightedEnsemble_L2 ...\n",
            "\t0.9786\t = Validation accuracy score\n",
            "\t0.4s\t = Training runtime\n",
            "\t0.0s\t = Validation runtime\n",
            "AutoGluon training complete, total runtime = 13.21s ...\n",
            "TabularPredictor saved. To load, use: predictor = TabularPredictor.load(\"AutogluonModels/ag-20210531_163506/\")\n"
          ],
          "name": "stderr"
        },
        {
          "output_type": "stream",
          "text": [
            "CPU times: user 13 s, sys: 1.08 s, total: 14 s\n",
            "Wall time: 13.9 s\n"
          ],
          "name": "stdout"
        }
      ]
    },
    {
      "cell_type": "code",
      "metadata": {
        "id": "hPkYEF2GfjBl",
        "colab": {
          "base_uri": "https://localhost:8080/"
        },
        "outputId": "77afdb21-ae13-44ff-c2a1-4eacab2209ed"
      },
      "source": [
        "res=clf.leaderboard(test_pca)"
      ],
      "execution_count": 31,
      "outputs": [
        {
          "output_type": "stream",
          "text": [
            "                  model  score_test  score_val  pred_time_test  pred_time_val  fit_time  pred_time_test_marginal  pred_time_val_marginal  fit_time_marginal  stack_level  can_infer  fit_order\n",
            "0              LightGBM    0.940000   0.978571        0.004632       0.002903  0.260709                 0.004632                0.002903           0.260709            1       True          5\n",
            "1               XGBoost    0.828571   0.978571        0.023463       0.003512  0.131830                 0.023463                0.003512           0.131830            1       True         11\n",
            "2      RandomForestGini    0.828571   0.978571        0.211882       0.103586  0.850663                 0.211882                0.103586           0.850663            1       True          6\n",
            "3      RandomForestEntr    0.828571   0.978571        0.212067       0.102933  0.862490                 0.212067                0.102933           0.862490            1       True          7\n",
            "4         LightGBMLarge    0.804286   0.978571        0.003684       0.002866  0.299517                 0.003684                0.002866           0.299517            1       True         13\n",
            "5        ExtraTreesGini    0.804286   0.978571        0.214228       0.103045  0.856121                 0.214228                0.103045           0.856121            1       True          9\n",
            "6   WeightedEnsemble_L2    0.804286   0.978571        0.217162       0.103637  1.259755                 0.002934                0.000592           0.403634            2       True         14\n",
            "7        ExtraTreesEntr    0.804286   0.978571        0.217471       0.102869  0.764974                 0.217471                0.102869           0.764974            1       True         10\n",
            "8              CatBoost    0.797143   0.971429        0.009458       0.001334  0.385585                 0.009458                0.001334           0.385585            1       True          8\n",
            "9       NeuralNetFastAI    0.797143   0.971429        0.034742       0.014678  1.819819                 0.034742                0.014678           1.819819            1       True          3\n",
            "10       KNeighborsDist    0.795714   0.971429        0.104154       0.106513  0.005156                 0.104154                0.106513           0.005156            1       True          2\n",
            "11       KNeighborsUnif    0.782857   0.971429        0.103711       0.105596  0.005021                 0.103711                0.105596           0.005021            1       True          1\n",
            "12           LightGBMXT    0.741429   0.971429        0.004721       0.002978  1.444510                 0.004721                0.002978           1.444510            1       True          4\n",
            "13       NeuralNetMXNet    0.652857   0.785714        0.180685       0.154280  3.021006                 0.180685                0.154280           3.021006            1       True         12\n"
          ],
          "name": "stdout"
        }
      ]
    },
    {
      "cell_type": "code",
      "metadata": {
        "colab": {
          "base_uri": "https://localhost:8080/",
          "height": 472
        },
        "id": "zcYKtEorTdra",
        "outputId": "5c96e5bc-228a-416b-fd4f-05356f1ffda8"
      },
      "source": [
        "res['score_test']=res['score_test'].round(3)*100\n",
        "res.iloc[:,0:2]"
      ],
      "execution_count": 32,
      "outputs": [
        {
          "output_type": "execute_result",
          "data": {
            "text/html": [
              "<div>\n",
              "<style scoped>\n",
              "    .dataframe tbody tr th:only-of-type {\n",
              "        vertical-align: middle;\n",
              "    }\n",
              "\n",
              "    .dataframe tbody tr th {\n",
              "        vertical-align: top;\n",
              "    }\n",
              "\n",
              "    .dataframe thead th {\n",
              "        text-align: right;\n",
              "    }\n",
              "</style>\n",
              "<table border=\"1\" class=\"dataframe\">\n",
              "  <thead>\n",
              "    <tr style=\"text-align: right;\">\n",
              "      <th></th>\n",
              "      <th>model</th>\n",
              "      <th>score_test</th>\n",
              "    </tr>\n",
              "  </thead>\n",
              "  <tbody>\n",
              "    <tr>\n",
              "      <th>0</th>\n",
              "      <td>LightGBM</td>\n",
              "      <td>94.0</td>\n",
              "    </tr>\n",
              "    <tr>\n",
              "      <th>1</th>\n",
              "      <td>XGBoost</td>\n",
              "      <td>82.9</td>\n",
              "    </tr>\n",
              "    <tr>\n",
              "      <th>2</th>\n",
              "      <td>RandomForestGini</td>\n",
              "      <td>82.9</td>\n",
              "    </tr>\n",
              "    <tr>\n",
              "      <th>3</th>\n",
              "      <td>RandomForestEntr</td>\n",
              "      <td>82.9</td>\n",
              "    </tr>\n",
              "    <tr>\n",
              "      <th>4</th>\n",
              "      <td>LightGBMLarge</td>\n",
              "      <td>80.4</td>\n",
              "    </tr>\n",
              "    <tr>\n",
              "      <th>5</th>\n",
              "      <td>ExtraTreesGini</td>\n",
              "      <td>80.4</td>\n",
              "    </tr>\n",
              "    <tr>\n",
              "      <th>6</th>\n",
              "      <td>WeightedEnsemble_L2</td>\n",
              "      <td>80.4</td>\n",
              "    </tr>\n",
              "    <tr>\n",
              "      <th>7</th>\n",
              "      <td>ExtraTreesEntr</td>\n",
              "      <td>80.4</td>\n",
              "    </tr>\n",
              "    <tr>\n",
              "      <th>8</th>\n",
              "      <td>CatBoost</td>\n",
              "      <td>79.7</td>\n",
              "    </tr>\n",
              "    <tr>\n",
              "      <th>9</th>\n",
              "      <td>NeuralNetFastAI</td>\n",
              "      <td>79.7</td>\n",
              "    </tr>\n",
              "    <tr>\n",
              "      <th>10</th>\n",
              "      <td>KNeighborsDist</td>\n",
              "      <td>79.6</td>\n",
              "    </tr>\n",
              "    <tr>\n",
              "      <th>11</th>\n",
              "      <td>KNeighborsUnif</td>\n",
              "      <td>78.3</td>\n",
              "    </tr>\n",
              "    <tr>\n",
              "      <th>12</th>\n",
              "      <td>LightGBMXT</td>\n",
              "      <td>74.1</td>\n",
              "    </tr>\n",
              "    <tr>\n",
              "      <th>13</th>\n",
              "      <td>NeuralNetMXNet</td>\n",
              "      <td>65.3</td>\n",
              "    </tr>\n",
              "  </tbody>\n",
              "</table>\n",
              "</div>"
            ],
            "text/plain": [
              "                  model  score_test\n",
              "0              LightGBM        94.0\n",
              "1               XGBoost        82.9\n",
              "2      RandomForestGini        82.9\n",
              "3      RandomForestEntr        82.9\n",
              "4         LightGBMLarge        80.4\n",
              "5        ExtraTreesGini        80.4\n",
              "6   WeightedEnsemble_L2        80.4\n",
              "7        ExtraTreesEntr        80.4\n",
              "8              CatBoost        79.7\n",
              "9       NeuralNetFastAI        79.7\n",
              "10       KNeighborsDist        79.6\n",
              "11       KNeighborsUnif        78.3\n",
              "12           LightGBMXT        74.1\n",
              "13       NeuralNetMXNet        65.3"
            ]
          },
          "metadata": {
            "tags": []
          },
          "execution_count": 32
        }
      ]
    },
    {
      "cell_type": "code",
      "metadata": {
        "id": "uoQMqbixZOSQ"
      },
      "source": [
        "test_pred = clf.predict(test_pca,model=res.model[0])"
      ],
      "execution_count": 33,
      "outputs": []
    },
    {
      "cell_type": "code",
      "metadata": {
        "colab": {
          "base_uri": "https://localhost:8080/"
        },
        "id": "VVIFCzo6cdY5",
        "outputId": "dc613037-e431-488f-8a51-763811350c4b"
      },
      "source": [
        "perf = clf.evaluate_predictions(y_true=test_pca.Label, y_pred=test_pred)\n"
      ],
      "execution_count": 34,
      "outputs": [
        {
          "output_type": "stream",
          "text": [
            "Evaluation: accuracy on test data: 0.94\n",
            "Evaluations on test data:\n",
            "{\n",
            "    \"accuracy\": 0.94,\n",
            "    \"balanced_accuracy\": 0.9144945963127782,\n",
            "    \"mcc\": 0.9064858080139754\n",
            "}\n"
          ],
          "name": "stderr"
        }
      ]
    },
    {
      "cell_type": "code",
      "metadata": {
        "colab": {
          "base_uri": "https://localhost:8080/"
        },
        "id": "qGa_7Y_sevcE",
        "outputId": "78cc2cd2-a79c-4280-f126-d96a732b8dd2"
      },
      "source": [
        "from sklearn.metrics import classification_report,accuracy_score\n",
        "print(classification_report(test_pca.Label,test_pred))"
      ],
      "execution_count": 35,
      "outputs": [
        {
          "output_type": "stream",
          "text": [
            "              precision    recall  f1-score   support\n",
            "\n",
            "       Fresh       1.00      0.80      0.89       143\n",
            "  Semi-Fresh       0.89      0.95      0.92       242\n",
            "     Spoiled       0.96      1.00      0.98       315\n",
            "\n",
            "    accuracy                           0.94       700\n",
            "   macro avg       0.95      0.91      0.93       700\n",
            "weighted avg       0.94      0.94      0.94       700\n",
            "\n"
          ],
          "name": "stdout"
        }
      ]
    },
    {
      "cell_type": "code",
      "metadata": {
        "id": "yquhRTRCpq3i",
        "colab": {
          "base_uri": "https://localhost:8080/"
        },
        "outputId": "e56cf216-c824-481b-a1b4-c38d1e6fef2c"
      },
      "source": [
        " print(accuracy_score(test_pca.Label,test_pred))"
      ],
      "execution_count": 36,
      "outputs": [
        {
          "output_type": "stream",
          "text": [
            "0.94\n"
          ],
          "name": "stdout"
        }
      ]
    },
    {
      "cell_type": "code",
      "metadata": {
        "id": "ViNTuVjPn8yH"
      },
      "source": [
        ""
      ],
      "execution_count": 36,
      "outputs": []
    }
  ]
}